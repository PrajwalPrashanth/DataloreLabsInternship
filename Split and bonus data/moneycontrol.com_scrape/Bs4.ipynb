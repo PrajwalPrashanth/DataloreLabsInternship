{
 "cells": [
  {
   "cell_type": "code",
   "execution_count": 2,
   "metadata": {},
   "outputs": [],
   "source": [
    "import pandas as pd\n",
    "import requests\n",
    "from bs4 import BeautifulSoup\n",
    "import time\n",
    "import random"
   ]
  },
  {
   "cell_type": "code",
   "execution_count": 3,
   "metadata": {
    "scrolled": false
   },
   "outputs": [],
   "source": [
    "stocks_split_info = pd.DataFrame(columns = ['Company', 'OldFV', 'NewFV', 'SplitDate'])"
   ]
  },
  {
   "cell_type": "code",
   "execution_count": 15,
   "metadata": {},
   "outputs": [],
   "source": [
    "def getStocksSplitData(start_year, end_year, sleep_interval):\n",
    "    global stocks_split_info\n",
    "    a = start_year\n",
    "    b = end_year+1\n",
    "    urls = [\"https://www.moneycontrol.com/stocks/marketinfo/splits/homebody.php?sel_year=\"+str(i) for i in range(a, b)]\n",
    "    for url in urls:\n",
    "        time.sleep(sleep_interval*(random.random()+1))\n",
    "        res = requests.get(url)\n",
    "        soup = BeautifulSoup(res.content,'lxml')\n",
    "        split_table = soup.find_all('table')[-2]\n",
    "        split_rows = split_table.find_all('tr')\n",
    "        rows_with_data = split_rows[3:len(split_rows)-3]\n",
    "        for row in rows_with_data:\n",
    "            if(row.find_all('a')):\n",
    "                company = row.find_all('a')[0].get_text()\n",
    "                lst = [row.find_all('td')[i].get_text() for i in range(1,4)]\n",
    "                stocks_split_info = stocks_split_info.append({'Company':company, 'OldFV':lst[0], 'NewFV':lst[1], 'SplitDate':lst[2]}, ignore_index=True)\n",
    "        stocks_split_info.to_csv(\"stocks_split_data.csv\", index=False)"
   ]
  },
  {
   "cell_type": "code",
   "execution_count": 16,
   "metadata": {},
   "outputs": [],
   "source": [
    "getStocksSplitData(1989,2019,45)"
   ]
  },
  {
   "cell_type": "code",
   "execution_count": 23,
   "metadata": {},
   "outputs": [],
   "source": [
    "bonus_issue_info = pd.DataFrame(columns = ['Company', 'Ratio', 'AnnouncementDate', 'RecordDate', 'Ex-Bonus'])"
   ]
  },
  {
   "cell_type": "code",
   "execution_count": 28,
   "metadata": {},
   "outputs": [],
   "source": [
    "def getBonusIssueData(start_year, end_year, sleep_interval):\n",
    "    global bonus_issue_info\n",
    "    a = start_year\n",
    "    b = end_year+1\n",
    "    urls = [\"https://www.moneycontrol.com/stocks/marketinfo/bonus/homebody.php?sel_year=\"+str(i) for i in range(a, b)]\n",
    "    for url in urls:\n",
    "        time.sleep(sleep_interval*(random.random()+1))\n",
    "        res = requests.get(url)\n",
    "        soup = BeautifulSoup(res.content,'lxml')\n",
    "        bonus_table = soup.find_all('table', class_=\"b_12 dvdtbl\")[0]\n",
    "        bonus_rows = bonus_table.find_all('tr')\n",
    "        rows_with_data = bonus_rows[2:]\n",
    "        for row in rows_with_data:\n",
    "            if(row.find_all('a')):\n",
    "                company = row.find_all('a')[0].get_text()\n",
    "                lst = [row.find_all('td')[i].get_text() for i in range(1,5)]\n",
    "                bonus_issue_info = bonus_issue_info.append({'Company':company, 'Ratio':lst[0], 'AnnouncementDate':lst[1], 'RecordDate':lst[2], 'Ex-Bonus':lst[3]}, ignore_index=True)\n",
    "        bonus_issue_info.to_csv(\"bonus_issue_data.csv\", index=False)"
   ]
  },
  {
   "cell_type": "code",
   "execution_count": 30,
   "metadata": {},
   "outputs": [],
   "source": [
    "getBonusIssueData(1995,2019,45)"
   ]
  },
  {
   "cell_type": "code",
   "execution_count": null,
   "metadata": {},
   "outputs": [],
   "source": []
  }
 ],
 "metadata": {
  "kernelspec": {
   "display_name": "Python 3",
   "language": "python",
   "name": "python3"
  },
  "language_info": {
   "codemirror_mode": {
    "name": "ipython",
    "version": 3
   },
   "file_extension": ".py",
   "mimetype": "text/x-python",
   "name": "python",
   "nbconvert_exporter": "python",
   "pygments_lexer": "ipython3",
   "version": "3.6.7"
  }
 },
 "nbformat": 4,
 "nbformat_minor": 2
}
