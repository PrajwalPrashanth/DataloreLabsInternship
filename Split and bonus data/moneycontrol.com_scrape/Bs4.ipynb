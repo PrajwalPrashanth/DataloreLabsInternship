{
 "cells": [
  {
   "cell_type": "code",
   "execution_count": 2,
   "metadata": {},
   "outputs": [],
   "source": [
    "import pandas as pd\n",
    "import requests\n",
    "from bs4 import BeautifulSoup"
   ]
  },
  {
   "cell_type": "code",
   "execution_count": 21,
   "metadata": {},
   "outputs": [],
   "source": [
    "url = \"https://www.moneycontrol.com/stocks/marketinfo/splits/homebody.php?sel_year=2019\"\n",
    "res = requests.get(url)\n",
    "soup = BeautifulSoup(res.content,'lxml')\n",
    "split_table = soup.find_all('table')[-2]\n",
    "split_rows = split_table.find_all('tr')\n",
    "rows_with_data = split_rows[3:len(split_rows)-3]"
   ]
  },
  {
   "cell_type": "code",
   "execution_count": 23,
   "metadata": {
    "scrolled": false
   },
   "outputs": [],
   "source": [
    "split_info = pd.DataFrame(columns = ['Company', 'OldFV', 'NewFV', 'SplitDate'])"
   ]
  },
  {
   "cell_type": "code",
   "execution_count": 63,
   "metadata": {},
   "outputs": [],
   "source": [
    "for row in rows_with_data:\n",
    "    company = [row.find_all('a')[0].get_text()]\n",
    "    lst = [row.find_all('td')[i].get_text() for i in range(1,4)]\n",
    "    temp_df = pd.DataFrame({'Company':company, 'OldFV':lst[0], 'NewFV':lst[1], 'SplitDate':lst[2]})\n",
    "    split_info.append(temp_df)                     "
   ]
  },
  {
   "cell_type": "code",
   "execution_count": 67,
   "metadata": {},
   "outputs": [
    {
     "name": "stdout",
     "output_type": "stream",
     "text": [
      "Empty DataFrame\n",
      "Columns: [Company, OldFV, NewFV, SplitDate]\n",
      "Index: []\n"
     ]
    }
   ],
   "source": [
    "split_info.append(temp_df)\n",
    "print(split_info)"
   ]
  },
  {
   "cell_type": "code",
   "execution_count": null,
   "metadata": {},
   "outputs": [],
   "source": []
  }
 ],
 "metadata": {
  "kernelspec": {
   "display_name": "Python 3",
   "language": "python",
   "name": "python3"
  },
  "language_info": {
   "codemirror_mode": {
    "name": "ipython",
    "version": 3
   },
   "file_extension": ".py",
   "mimetype": "text/x-python",
   "name": "python",
   "nbconvert_exporter": "python",
   "pygments_lexer": "ipython3",
   "version": "3.6.7"
  }
 },
 "nbformat": 4,
 "nbformat_minor": 2
}
