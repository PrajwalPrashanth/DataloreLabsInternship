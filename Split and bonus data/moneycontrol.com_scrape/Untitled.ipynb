{
 "cells": [
  {
   "cell_type": "code",
   "execution_count": 7,
   "metadata": {},
   "outputs": [],
   "source": [
    "import scrapy as spy"
   ]
  },
  {
   "cell_type": "code",
   "execution_count": 2,
   "metadata": {},
   "outputs": [
    {
     "name": "stdout",
     "output_type": "stream",
     "text": [
      "New Scrapy project 'scrape', using template directory '/home/prajwal/.local/lib/python3.6/site-packages/scrapy/templates/project', created in:\r\n",
      "    /home/prajwal/Desktop/github/DataloreLabsInternship/Split and bonus data/moneycontrol.com_scrape/scrape\r\n",
      "\r\n",
      "You can start your first spider with:\r\n",
      "    cd scrape\r\n",
      "    scrapy genspider example example.com\r\n"
     ]
    }
   ],
   "source": [
    "!scrapy startproject scrape"
   ]
  },
  {
   "cell_type": "code",
   "execution_count": 13,
   "metadata": {},
   "outputs": [
    {
     "ename": "SyntaxError",
     "evalue": "invalid syntax (<ipython-input-13-00981bdb0424>, line 12)",
     "output_type": "error",
     "traceback": [
      "\u001b[0;36m  File \u001b[0;32m\"<ipython-input-13-00981bdb0424>\"\u001b[0;36m, line \u001b[0;32m12\u001b[0m\n\u001b[0;31m    def\u001b[0m\n\u001b[0m        ^\u001b[0m\n\u001b[0;31mSyntaxError\u001b[0m\u001b[0;31m:\u001b[0m invalid syntax\n"
     ]
    }
   ],
   "source": [
    "class BonusSplitTableSpider(spy.Spider):\n",
    "    name = \"bst\"\n",
    "    \n",
    "    start_urls = [\"https://www.moneycontrol.com/stocks/marketinfo/splits/homebody.php?sel_year=\"+str(i) for i in range(start_year,end_year+1)]\n",
    "        \n",
    "    def parse(self, response):\n",
    "        \n",
    "        "
   ]
  },
  {
   "cell_type": "code",
   "execution_count": null,
   "metadata": {},
   "outputs": [
    {
     "name": "stdout",
     "output_type": "stream",
     "text": [
      "2019-01-16 13:53:55 [scrapy.utils.log] INFO: Scrapy 1.5.1 started (bot: scrapybot)\n",
      "2019-01-16 13:53:55 [scrapy.utils.log] INFO: Versions: lxml 4.3.0.0, libxml2 2.9.9, cssselect 1.0.3, parsel 1.5.1, w3lib 1.20.0, Twisted 18.9.0, Python 3.6.7 (default, Oct 22 2018, 11:32:17) - [GCC 8.2.0], pyOpenSSL 18.0.0 (OpenSSL 1.1.0j  20 Nov 2018), cryptography 2.4.2, Platform Linux-4.15.0-43-generic-x86_64-with-Ubuntu-18.04-bionic\n",
      "2019-01-16 13:53:55 [scrapy.crawler] INFO: Overridden settings: {'DUPEFILTER_CLASS': 'scrapy.dupefilters.BaseDupeFilter', 'LOGSTATS_INTERVAL': 0}\n",
      "2019-01-16 13:53:55 [scrapy.middleware] INFO: Enabled extensions:\n",
      "['scrapy.extensions.corestats.CoreStats',\n",
      " 'scrapy.extensions.telnet.TelnetConsole',\n",
      " 'scrapy.extensions.memusage.MemoryUsage']\n",
      "2019-01-16 13:53:55 [scrapy.middleware] INFO: Enabled downloader middlewares:\n",
      "['scrapy.downloadermiddlewares.httpauth.HttpAuthMiddleware',\n",
      " 'scrapy.downloadermiddlewares.downloadtimeout.DownloadTimeoutMiddleware',\n",
      " 'scrapy.downloadermiddlewares.defaultheaders.DefaultHeadersMiddleware',\n",
      " 'scrapy.downloadermiddlewares.useragent.UserAgentMiddleware',\n",
      " 'scrapy.downloadermiddlewares.retry.RetryMiddleware',\n",
      " 'scrapy.downloadermiddlewares.redirect.MetaRefreshMiddleware',\n",
      " 'scrapy.downloadermiddlewares.httpcompression.HttpCompressionMiddleware',\n",
      " 'scrapy.downloadermiddlewares.redirect.RedirectMiddleware',\n",
      " 'scrapy.downloadermiddlewares.cookies.CookiesMiddleware',\n",
      " 'scrapy.downloadermiddlewares.httpproxy.HttpProxyMiddleware',\n",
      " 'scrapy.downloadermiddlewares.stats.DownloaderStats']\n",
      "2019-01-16 13:53:55 [scrapy.middleware] INFO: Enabled spider middlewares:\n",
      "['scrapy.spidermiddlewares.httperror.HttpErrorMiddleware',\n",
      " 'scrapy.spidermiddlewares.offsite.OffsiteMiddleware',\n",
      " 'scrapy.spidermiddlewares.referer.RefererMiddleware',\n",
      " 'scrapy.spidermiddlewares.urllength.UrlLengthMiddleware',\n",
      " 'scrapy.spidermiddlewares.depth.DepthMiddleware']\n",
      "2019-01-16 13:53:55 [scrapy.middleware] INFO: Enabled item pipelines:\n",
      "[]\n",
      "2019-01-16 13:53:55 [scrapy.extensions.telnet] DEBUG: Telnet console listening on 127.0.0.1:6023\n",
      "2019-01-16 13:53:55 [scrapy.core.engine] INFO: Spider opened\n",
      "2019-01-16 13:54:00 [scrapy.core.engine] DEBUG: Crawled (200) <GET https://www.moneycontrol.com/stocks/marketinfo/splits/homebody.php?sel_year=2000> (referer: None)\n",
      "[s] Available Scrapy objects:\n",
      "[s]   scrapy     scrapy module (contains scrapy.Request, scrapy.Selector, etc)\n",
      "[s]   crawler    <scrapy.crawler.Crawler object at 0x7f8733600470>\n",
      "[s]   item       {}\n",
      "[s]   request    <GET https://www.moneycontrol.com/stocks/marketinfo/splits/homebody.php?sel_year=2000>\n",
      "[s]   response   <200 https://www.moneycontrol.com/stocks/marketinfo/splits/homebody.php?sel_year=2000>\n",
      "[s]   settings   <scrapy.settings.Settings object at 0x7f8731f5a748>\n",
      "[s]   spider     <DefaultSpider 'default' at 0x7f8731ae2a20>\n",
      "[s] Useful shortcuts:\n",
      "[s]   fetch(url[, redirect=True]) Fetch URL and update local objects (by default, redirects are followed)\n",
      "[s]   fetch(req)                  Fetch a scrapy.Request and update local objects \n",
      "[s]   shelp()           Shell help (print this help)\n",
      "[s]   view(response)    View response in a browser\n",
      "\u001b[8C\u001b[?7h\u001b[0m\u001b[?12l\u001b[?25h0m\u001b[?7l\u001b[0m\u001b[J\u001b[0;38;5;28mIn [\u001b[0;92;1m1\u001b[0;38;5;28m]: \u001b[0m                                                                       \u001b[8D\u001b[J\u001b[0m\u001b[?7h\u001b[?2004l\u001b[?1lWARNING: your terminal doesn't support cursor position requests (CPR).\n",
      "\u001b[8C\u001b[?7h\u001b[0m\u001b[?12l\u001b[?25h0m\u001b[J\u001b[0;38;5;28mIn [\u001b[0;92;1m1\u001b[0;38;5;28m]: \u001b[0m                                                                       "
     ]
    }
   ],
   "source": [
    "!scrapy shell \"https://www.moneycontrol.com/stocks/marketinfo/splits/homebody.php?sel_year=2000\""
   ]
  },
  {
   "cell_type": "code",
   "execution_count": null,
   "metadata": {},
   "outputs": [],
   "source": [
    "response.css('tbody').extract()"
   ]
  },
  {
   "cell_type": "code",
   "execution_count": 3,
   "metadata": {},
   "outputs": [],
   "source": [
    "start_year = 1990\n",
    "end_year = 2019\n",
    "urls = [\"https://www.moneycontrol.com/stocks/marketinfo/splits/homebody.php?sel_year=\"+str(i) for i in range(start_year,end_year+1)]"
   ]
  },
  {
   "cell_type": "code",
   "execution_count": 7,
   "metadata": {},
   "outputs": [
    {
     "data": {
      "text/plain": [
       "['https://www.moneycontrol.com/stocks/marketinfo/splits/homebody.php?sel_year=1995',\n",
       " 'https://www.moneycontrol.com/stocks/marketinfo/splits/homebody.php?sel_year=1990',\n",
       " 'https://www.moneycontrol.com/stocks/marketinfo/splits/homebody.php?sel_year=2013',\n",
       " 'https://www.moneycontrol.com/stocks/marketinfo/splits/homebody.php?sel_year=2002',\n",
       " 'https://www.moneycontrol.com/stocks/marketinfo/splits/homebody.php?sel_year=2010',\n",
       " 'https://www.moneycontrol.com/stocks/marketinfo/splits/homebody.php?sel_year=2006',\n",
       " 'https://www.moneycontrol.com/stocks/marketinfo/splits/homebody.php?sel_year=2000',\n",
       " 'https://www.moneycontrol.com/stocks/marketinfo/splits/homebody.php?sel_year=1997',\n",
       " 'https://www.moneycontrol.com/stocks/marketinfo/splits/homebody.php?sel_year=2017',\n",
       " 'https://www.moneycontrol.com/stocks/marketinfo/splits/homebody.php?sel_year=2019',\n",
       " 'https://www.moneycontrol.com/stocks/marketinfo/splits/homebody.php?sel_year=1996',\n",
       " 'https://www.moneycontrol.com/stocks/marketinfo/splits/homebody.php?sel_year=2018',\n",
       " 'https://www.moneycontrol.com/stocks/marketinfo/splits/homebody.php?sel_year=2011',\n",
       " 'https://www.moneycontrol.com/stocks/marketinfo/splits/homebody.php?sel_year=1999',\n",
       " 'https://www.moneycontrol.com/stocks/marketinfo/splits/homebody.php?sel_year=2012',\n",
       " 'https://www.moneycontrol.com/stocks/marketinfo/splits/homebody.php?sel_year=1998',\n",
       " 'https://www.moneycontrol.com/stocks/marketinfo/splits/homebody.php?sel_year=2004',\n",
       " 'https://www.moneycontrol.com/stocks/marketinfo/splits/homebody.php?sel_year=1993',\n",
       " 'https://www.moneycontrol.com/stocks/marketinfo/splits/homebody.php?sel_year=2014',\n",
       " 'https://www.moneycontrol.com/stocks/marketinfo/splits/homebody.php?sel_year=2016',\n",
       " 'https://www.moneycontrol.com/stocks/marketinfo/splits/homebody.php?sel_year=2015',\n",
       " 'https://www.moneycontrol.com/stocks/marketinfo/splits/homebody.php?sel_year=1992',\n",
       " 'https://www.moneycontrol.com/stocks/marketinfo/splits/homebody.php?sel_year=2005',\n",
       " 'https://www.moneycontrol.com/stocks/marketinfo/splits/homebody.php?sel_year=2001',\n",
       " 'https://www.moneycontrol.com/stocks/marketinfo/splits/homebody.php?sel_year=2009',\n",
       " 'https://www.moneycontrol.com/stocks/marketinfo/splits/homebody.php?sel_year=2008',\n",
       " 'https://www.moneycontrol.com/stocks/marketinfo/splits/homebody.php?sel_year=2003',\n",
       " 'https://www.moneycontrol.com/stocks/marketinfo/splits/homebody.php?sel_year=1994',\n",
       " 'https://www.moneycontrol.com/stocks/marketinfo/splits/homebody.php?sel_year=2007',\n",
       " 'https://www.moneycontrol.com/stocks/marketinfo/splits/homebody.php?sel_year=1991']"
      ]
     },
     "execution_count": 7,
     "metadata": {},
     "output_type": "execute_result"
    }
   ],
   "source": [
    "import random\n",
    "random.shuffle(urls)\n",
    "urls"
   ]
  },
  {
   "cell_type": "code",
   "execution_count": null,
   "metadata": {},
   "outputs": [],
   "source": []
  }
 ],
 "metadata": {
  "kernelspec": {
   "display_name": "Python 3",
   "language": "python",
   "name": "python3"
  },
  "language_info": {
   "codemirror_mode": {
    "name": "ipython",
    "version": 3
   },
   "file_extension": ".py",
   "mimetype": "text/x-python",
   "name": "python",
   "nbconvert_exporter": "python",
   "pygments_lexer": "ipython3",
   "version": "3.6.7"
  }
 },
 "nbformat": 4,
 "nbformat_minor": 2
}
