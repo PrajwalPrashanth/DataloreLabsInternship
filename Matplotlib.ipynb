{
 "cells": [
  {
   "cell_type": "markdown",
   "metadata": {},
   "source": [
    "# Matplotlib\n",
    "\n",
    "* Python package to visulize data\n"
   ]
  },
  {
   "cell_type": "code",
   "execution_count": 5,
   "metadata": {},
   "outputs": [],
   "source": [
    "import numpy as np\n",
    "import pandas as pd\n",
    "import matplotlib.pyplot as plt\n",
    "%matplotlib inline "
   ]
  },
  {
   "cell_type": "markdown",
   "metadata": {},
   "source": [
    "## Figure\n",
    "\n",
    "* Keeps track of all the child axes, title"
   ]
  },
  {
   "cell_type": "code",
   "execution_count": 43,
   "metadata": {},
   "outputs": [
    {
     "data": {
      "text/plain": [
       "Text(0.5, 0.98, 'No Axes')"
      ]
     },
     "execution_count": 43,
     "metadata": {},
     "output_type": "execute_result"
    },
    {
     "data": {
      "text/plain": [
       "<Figure size 432x288 with 0 Axes>"
      ]
     },
     "metadata": {},
     "output_type": "display_data"
    }
   ],
   "source": [
    "fig = plt.figure() # empty figure\n",
    "fig.suptitle('No Axes') # Centered title to the figure"
   ]
  },
  {
   "cell_type": "code",
   "execution_count": 23,
   "metadata": {},
   "outputs": [
    {
     "data": {
      "image/png": "[encoded data removed]",
      "text/plain": [
       "<Figure size 432x288 with 4 Axes>"
      ]
     },
     "metadata": {
      "needs_background": "light"
     },
     "output_type": "display_data"
    }
   ],
   "source": [
    "fig, ax_list = plt.subplots(2,2) # figure of 2 x 2 grid of axes"
   ]
  },
  {
   "cell_type": "markdown",
   "metadata": {},
   "source": [
    "## Axes\n",
    "\n",
    "* Region of image with data space, a plot\n",
    "* A figure can have many axes, but a given axes object can be in one Figure\n",
    "* Axes contains 2(3 in case of 3D) axis objects\n",
    "\n",
    "## Axis\n",
    "\n",
    "* Number line like objects\n",
    "* Setting graph limits, generating ticks and ticklabels\n",
    "\n",
    "## Inputs to Plotting fucntions\n",
    "\n",
    "* np arrays are preffered\n",
    "* Pandas dataframe , np matrix may or may not work as expected\n",
    "* Better to convert them to np arrays\n"
   ]
  },
  {
   "cell_type": "code",
   "execution_count": 30,
   "metadata": {},
   "outputs": [
    {
     "name": "stdout",
     "output_type": "stream",
     "text": [
      "          a         b         c         d         e\n",
      "0  0.259667  0.899800  0.708398  0.827513  0.384728\n",
      "1  0.825238  0.676549  0.961994  0.876186  0.257962\n",
      "2  0.792718  0.509258  0.487774  0.417077  0.122860\n",
      "3  0.047219  0.177324  0.128713  0.931397  0.604898 \n",
      "\n",
      "[[0.25966697 0.89979998 0.70839813 0.82751313 0.38472849]\n",
      " [0.82523784 0.6765492  0.96199407 0.87618613 0.25796209]\n",
      " [0.7927179  0.50925798 0.48777355 0.41707718 0.12285952]\n",
      " [0.0472191  0.17732378 0.12871297 0.93139669 0.60489836]]\n"
     ]
    }
   ],
   "source": [
    "a = pd.DataFrame(np.random.rand(4,5), columns = list('abcde'))\n",
    "print(a, \"\\n\")\n",
    "\n",
    "pd_asArray = a.values\n",
    "print(pd_asArray)"
   ]
  },
  {
   "cell_type": "code",
   "execution_count": 36,
   "metadata": {},
   "outputs": [
    {
     "name": "stdout",
     "output_type": "stream",
     "text": [
      "[[1 2]\n",
      " [3 4]] \n",
      "\n"
     ]
    },
    {
     "data": {
      "text/plain": [
       "array([[1, 2],\n",
       "       [3, 4]])"
      ]
     },
     "execution_count": 36,
     "metadata": {},
     "output_type": "execute_result"
    }
   ],
   "source": [
    "a = np.matrix([[1,2],[3,4]])\n",
    "print(a, \"\\n\")\n",
    "\n",
    "mat_asArray = np.asarray(a)\n",
    "mat_asArray"
   ]
  },
  {
   "cell_type": "markdown",
   "metadata": {},
   "source": [
    "* **matplotlib**: is the whole package\n",
    "* **pyplot**: is a module in matplotlib, provides interface between the machine and object-oriented plotting library, machine autmatically creates figure and axes to acheve desired plot"
   ]
  },
  {
   "cell_type": "code",
   "execution_count": 39,
   "metadata": {
    "scrolled": true
   },
   "outputs": [
    {
     "data": {
      "image/png": "[encoded data removed]",
      "text/plain": [
       "<Figure size 432x288 with 1 Axes>"
      ]
     },
     "metadata": {
      "needs_background": "light"
     },
     "output_type": "display_data"
    }
   ],
   "source": [
    "x = np.linspace(0, 2, 100)\n",
    "\n",
    "plt.plot(x, x, label='linear')\n",
    "plt.plot(x, x**2, label='quadratic')\n",
    "plt.plot(x, x**3, label='cubic')\n",
    "\n",
    "plt.xlabel('100 points from 0 to 2')\n",
    "plt.ylabel('100 points of linear,squares and cubes')\n",
    "\n",
    "plt.title(\"Plot\")\n",
    "\n",
    "plt.legend()\n",
    "\n",
    "plt.show()"
   ]
  },
  {
   "cell_type": "markdown",
   "metadata": {},
   "source": [
    "first plt.plot will autmatically create the necessary figure and axes and subsequent calls of plot reuse the current axes and add another curve to the figure"
   ]
  },
  {
   "cell_type": "markdown",
   "metadata": {},
   "source": [
    "# Pyplot"
   ]
  },
  {
   "cell_type": "code",
   "execution_count": null,
   "metadata": {},
   "outputs": [],
   "source": []
  }
 ],
 "metadata": {
  "kernelspec": {
   "display_name": "Python 3",
   "language": "python",
   "name": "python3"
  },
  "language_info": {
   "codemirror_mode": {
    "name": "ipython",
    "version": 3
   },
   "file_extension": ".py",
   "mimetype": "text/x-python",
   "name": "python",
   "nbconvert_exporter": "python",
   "pygments_lexer": "ipython3",
   "version": "3.6.7"
  }
 },
 "nbformat": 4,
 "nbformat_minor": 2
}
