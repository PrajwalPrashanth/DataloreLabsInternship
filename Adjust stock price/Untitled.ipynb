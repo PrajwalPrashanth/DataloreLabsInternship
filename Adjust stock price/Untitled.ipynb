{
 "cells": [
  {
   "cell_type": "code",
   "execution_count": 1,
   "metadata": {},
   "outputs": [],
   "source": [
    "import requests\n",
    "import numpy as np\n",
    "import pandas as pd\n",
    "import matplotlib.pyplot as plt\n",
    "from pathlib import Path"
   ]
  },
  {
   "cell_type": "code",
   "execution_count": 2,
   "metadata": {},
   "outputs": [],
   "source": [
    "def extractStockData(stockCode):\n",
    "    \n",
    "    response = requests.get(\"https://www.stocklore.ai/api/nse_data.csv?q=\"+stockCode)\n",
    "    \n",
    "    if(response.status_code == 200):\n",
    "        \n",
    "        a = response.content.decode(\"utf-8\").split(\"\\n\")\n",
    "        a = [i.split(\",\") for i in a]\n",
    "        \n",
    "        price_df = pd.DataFrame(a[1:-1], columns=a[0])\n",
    "        price_df.iloc[:,1:] = price_df.iloc[:,1:].astype('float')\n",
    "        price_df['Date'] = pd.to_datetime(price_df['Date'], format='%Y-%m-%d')\n",
    "        \n",
    "        return price_df\n",
    "    \n",
    "    else:\n",
    "        print(\"Error in Stock Price Data Extraction, Check the stock code name and internet connection\")    \n",
    "        "
   ]
  },
  {
   "cell_type": "code",
   "execution_count": null,
   "metadata": {},
   "outputs": [],
   "source": [
    "def scrapeSplitData()"
   ]
  },
  {
   "cell_type": "code",
   "execution_count": null,
   "metadata": {},
   "outputs": [],
   "source": [
    "def adjust_split(stockCode):\n",
    "    \n",
    "    price_df = extractStockData(stockCode)\n",
    "    \n",
    "    "
   ]
  }
 ],
 "metadata": {
  "kernelspec": {
   "display_name": "Python 3",
   "language": "python",
   "name": "python3"
  },
  "language_info": {
   "codemirror_mode": {
    "name": "ipython",
    "version": 3
   },
   "file_extension": ".py",
   "mimetype": "text/x-python",
   "name": "python",
   "nbconvert_exporter": "python",
   "pygments_lexer": "ipython3",
   "version": "3.6.7"
  }
 },
 "nbformat": 4,
 "nbformat_minor": 2
}
