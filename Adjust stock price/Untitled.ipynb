{
 "cells": [
  {
   "cell_type": "code",
   "execution_count": 1,
   "metadata": {},
   "outputs": [],
   "source": [
    "import requests\n",
    "import numpy as np\n",
    "import pandas as pd\n",
    "import matplotlib.pyplot as plt\n",
    "from pathlib import Path\n",
    "from bs4 import BeautifulSoup\n",
    "import time\n",
    "import random"
   ]
  },
  {
   "cell_type": "code",
   "execution_count": 2,
   "metadata": {},
   "outputs": [],
   "source": [
    "def extractStockData(stock_code):\n",
    "    \n",
    "    response = requests.get(\"https://www.stocklore.ai/api/nse_data.csv?q=\"+stock_code)\n",
    "    \n",
    "    if(response.status_code == 200):\n",
    "        \n",
    "        a = response.content.decode(\"utf-8\").split(\"\\n\")\n",
    "        a = [i.split(\",\") for i in a]\n",
    "        \n",
    "        price_df = pd.DataFrame(a[1:-1], columns=a[0])\n",
    "        price_df.iloc[:,1:] = price_df.iloc[:,1:].astype('float')\n",
    "        price_df['Date'] = pd.to_datetime(price_df['Date'], format='%Y-%m-%d')\n",
    "        price_df = price_df.sort_values(by=['Date']).reset_index(drop=True)\n",
    "        \n",
    "        return price_df\n",
    "    \n",
    "    else:\n",
    "        print(\"Error in Stock Price Data Extraction, Check the stock code name and internet connection\")    \n",
    "        "
   ]
  },
  {
   "cell_type": "code",
   "execution_count": 3,
   "metadata": {},
   "outputs": [],
   "source": [
    "def getSplitData(stock_code, start_year=2008, end_year=2019, scrape_min_interval=15):\n",
    "    stocks_split_info = pd.DataFrame(columns = ['NseCode', 'Company', 'OldFV', 'NewFV', 'SplitDate'])\n",
    "    urls = [\"https://www.moneycontrol.com/stocks/marketinfo/splits/homebody.php?sel_year=\"+str(i) for i in range(start_year, end_year+1)]\n",
    "    for url in urls:\n",
    "        time.sleep(scrape_min_interval*(random.uniform(1,1.5)))\n",
    "        res = requests.get(url)\n",
    "        soup = BeautifulSoup(res.content,'lxml')\n",
    "        split_table = soup.find_all('table')[-2]\n",
    "        split_rows = split_table.find_all('tr')\n",
    "        rows_with_data = split_rows[3:len(split_rows)-3]\n",
    "        for row in rows_with_data:\n",
    "            if(row.find('a')):\n",
    "                try:\n",
    "                    code = BeautifulSoup(requests.get(\"https://www.moneycontrol.com\"+row.find('a')['href']).content, 'lxml').find('div', class_=\"FL gry10\").get_text().split('|')[1][5:].strip()\n",
    "                except:\n",
    "                    code = 'notScraping'\n",
    "                company = row.find('a').get_text()\n",
    "                lst = [row.find_all('td')[i].get_text() for i in range(1,4)]\n",
    "                stocks_split_info = stocks_split_info.append({'NseCode':code,'Company':company, 'OldFV':lst[0], 'NewFV':lst[1], 'SplitDate':lst[2]}, ignore_index=True)\n",
    "                \n",
    "    stocks_split_info['SplitDate'] = pd.to_datetime(stocks_split_info['SplitDate'], format='%d-%m-%Y')\n",
    "    stock_split_df = stocks_split_info[stocks_split_info[\"NseCode\"]==stock_code]\n",
    "    stock_split_df = stock_split_df.sort_values(by=['SplitDate']).reset_index(drop=True)\n",
    "    \n",
    "    return stock_split_df\n"
   ]
  },
  {
   "cell_type": "code",
   "execution_count": 4,
   "metadata": {},
   "outputs": [],
   "source": [
    "def getBonusData(stock_code, start_year=2008, end_year=2019, scrape_min_interval=15):\n",
    "    bonus_issue_info = pd.DataFrame(columns = ['NseCode', 'Company', 'Ratio', 'AnnouncementDate', 'RecordDate', 'Ex-Bonus'])\n",
    "    urls = [\"https://www.moneycontrol.com/stocks/marketinfo/bonus/homebody.php?sel_year=\"+str(i) for i in range(start_year, end_year+1)]\n",
    "    for url in urls:\n",
    "        time.sleep(scrape_min_interval*(random.uniform(1,1.5)))\n",
    "        res = requests.get(url)\n",
    "        soup = BeautifulSoup(res.content,'lxml')\n",
    "        bonus_table = soup.find_all('table', class_=\"b_12 dvdtbl\")[0]\n",
    "        bonus_rows = bonus_table.find_all('tr')\n",
    "        rows_with_data = bonus_rows[2:]\n",
    "        for row in rows_with_data:\n",
    "            if(row.find('a')):\n",
    "                try:\n",
    "                    code = BeautifulSoup(requests.get(\"https://www.moneycontrol.com\"+row.find('a')['href']).content, 'lxml').find('div', class_=\"FL gry10\").get_text().split('|')[1][5:].strip()\n",
    "                except:\n",
    "                    code = 'notScraping'\n",
    "                company = row.find('a').get_text()\n",
    "                lst = [row.find_all('td')[i].get_text() for i in range(1,5)]\n",
    "                bonus_issue_info = bonus_issue_info.append({'NseCode': code, 'Company':company, 'Ratio':lst[0], 'AnnouncementDate':lst[1], 'RecordDate':lst[2], 'Ex-Bonus':lst[3]}, ignore_index=True)\n",
    "        \n",
    "    bonus_issue_info['Ex-Bonus'] = pd.to_datetime(bonus_issue_info['Ex-Bonus'], format='%d-%m-%Y')\n",
    "    bonus_issue_df = bonus_issue_info[bonus_issue_info['NseCode']==stock_code]\n",
    "    bonus_issue_df = bonus_issue_df.sort_values(by=['Ex-Bonus']).reset_index(drop=True)\n",
    "    \n",
    "    return bonus_issue_df       "
   ]
  },
  {
   "cell_type": "code",
   "execution_count": 5,
   "metadata": {},
   "outputs": [],
   "source": [
    "def adjustSplit(price_df, split_df):\n",
    "    \n",
    "    split_df.iloc[:,2:4] = split_df.iloc[:,2:4].astype('int')\n",
    "    \n",
    "    for i in range(len(split_df)):\n",
    "        price_df.loc[price_df['Date']<split_df['SplitDate'][i],['Open', 'Close', 'High', 'Low', 'Volume']] /= (split_df['OldFV'][i]/split_df['NewFV'][i])\n",
    "        \n",
    "    return price_df"
   ]
  },
  {
   "cell_type": "code",
   "execution_count": 6,
   "metadata": {},
   "outputs": [],
   "source": [
    "def adjustBonus(price_df, bonus_df):\n",
    "    \n",
    "    bonus_df['Ratio'] = [ i.split(':') for i in bonus_df['Ratio']]\n",
    "    \n",
    "    for i in range(len(bonus_df)):\n",
    "        price_df.loc[price_df['Date']<bonus_df['Ex-Bonus'][i],['Open', 'Close', 'High', 'Low', 'Volume']] *= (int(bonus_df['Ratio'][i][1]))/(int(bonus_df['Ratio'][i][0])+int(bonus_df['Ratio'][i][1]))\n",
    "    \n",
    "    return price_df"
   ]
  },
  {
   "cell_type": "code",
   "execution_count": 7,
   "metadata": {},
   "outputs": [],
   "source": [
    "def adjustStockData(stock_code, store=False, filename=\" \", real_time_scrape=False, scrape_min_interval=15):\n",
    "    \n",
    "    price_df = extractStockData(stock_code)\n",
    "    start_year = price_df['Date'][0].year\n",
    "    end_year = price_df['Date'][len(price_df)-1].year\n",
    "    original_df = price_df.copy()\n",
    "\n",
    "    if(real_time_scrape==True):\n",
    "        split_df = getSplitData(stock_code, start_year, end_year, scrape_min_interval)\n",
    "        bonus_df = getBonusData(stock_code, start_year, end_year, scrape_min_interval)\n",
    "        \n",
    "    else:\n",
    "        path = Path('../Split and bonus data/moneycontrol.com_scrape')\n",
    "        split_df = pd.read_csv(path/\"stocks_split_data_nsecode.csv\")\n",
    "        bonus_df = pd.read_csv(path/\"bonus_issue_data_nsecode.csv\")\n",
    "    \n",
    "    return price_df, split_df, bonus_df\n",
    "        \n",
    "    price_df = adjustSplit(price_df, split_df)\n",
    "    price_df = adjustBonus(price_df, bonus_df)\n",
    "    \n",
    "    if(store==True):\n",
    "        if(filename==\" \"):\n",
    "            price_df.to_csv(stock_code+\".csv\", index=False)\n",
    "        else:\n",
    "            price_df.to_csv(filename+\".csv\", index=False)\n",
    "    \n",
    "    return original_df, price_df\n"
   ]
  },
  {
   "cell_type": "code",
   "execution_count": null,
   "metadata": {},
   "outputs": [],
   "source": [
    "a, b = adjustStockData(\"JISLJALEQS\", real_time_scrape=True, scrape_min_interval=10, store=True)"
   ]
  },
  {
   "cell_type": "code",
   "execution_count": null,
   "metadata": {},
   "outputs": [],
   "source": [
    "plt.figure(1, figsize=(20,10))\n",
    "plt.subplot(121)\n",
    "plt.plot(a['Open'].values, 'r-')\n",
    "plt.plot(a['Close'].values, 'b-')\n",
    "\n",
    "plt.subplot(122)\n",
    "plt.plot(b['Open'].values, 'r-')\n",
    "plt.plot(b['Close'].values, 'b-')"
   ]
  },
  {
   "cell_type": "code",
   "execution_count": null,
   "metadata": {},
   "outputs": [],
   "source": [
    "b"
   ]
  },
  {
   "cell_type": "code",
   "execution_count": null,
   "metadata": {},
   "outputs": [],
   "source": [
    "c"
   ]
  },
  {
   "cell_type": "code",
   "execution_count": null,
   "metadata": {},
   "outputs": [],
   "source": [
    "d = adjustSplit(a, b)"
   ]
  },
  {
   "cell_type": "code",
   "execution_count": null,
   "metadata": {},
   "outputs": [],
   "source": [
    "plt.figure(figsize=(20, 10))\n",
    "plt.subplot(122)\n",
    "plt.plot(a['Open'].values, 'r-')\n",
    "#plt.plot(d['Open'].values, 'b-')"
   ]
  },
  {
   "cell_type": "code",
   "execution_count": null,
   "metadata": {},
   "outputs": [],
   "source": []
  }
 ],
 "metadata": {
  "kernelspec": {
   "display_name": "Python 3",
   "language": "python",
   "name": "python3"
  },
  "language_info": {
   "codemirror_mode": {
    "name": "ipython",
    "version": 3
   },
   "file_extension": ".py",
   "mimetype": "text/x-python",
   "name": "python",
   "nbconvert_exporter": "python",
   "pygments_lexer": "ipython3",
   "version": "3.5.3"
  }
 },
 "nbformat": 4,
 "nbformat_minor": 2
}
