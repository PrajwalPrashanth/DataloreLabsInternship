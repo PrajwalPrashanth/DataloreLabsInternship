{
 "cells": [
  {
   "cell_type": "code",
   "execution_count": 1,
   "metadata": {},
   "outputs": [],
   "source": [
    "import requests\n",
    "import numpy as np\n",
    "import pandas as pd\n",
    "import matplotlib.pyplot as plt\n",
    "from pathlib import Path\n",
    "from bs4 import BeautifulSoup\n",
    "import time\n",
    "import random"
   ]
  },
  {
   "cell_type": "code",
   "execution_count": 2,
   "metadata": {},
   "outputs": [],
   "source": [
    "def extractStockData(stock_code):\n",
    "    \n",
    "    response = requests.get(\"https://www.stocklore.ai/api/nse_data.csv?q=\"+stockCode)\n",
    "    \n",
    "    if(response.status_code == 200):\n",
    "        \n",
    "        a = response.content.decode(\"utf-8\").split(\"\\n\")\n",
    "        a = [i.split(\",\") for i in a]\n",
    "        \n",
    "        price_df = pd.DataFrame(a[1:-1], columns=a[0])\n",
    "        price_df.iloc[:,1:] = price_df.iloc[:,1:].astype('float')\n",
    "        price_df['Date'] = pd.to_datetime(price_df['Date'], format='%Y-%m-%d')\n",
    "        \n",
    "        return price_df\n",
    "    \n",
    "    else:\n",
    "        print(\"Error in Stock Price Data Extraction, Check the stock code name and internet connection\")    \n",
    "        "
   ]
  },
  {
   "cell_type": "code",
   "execution_count": 60,
   "metadata": {},
   "outputs": [],
   "source": [
    "def getSplitData(stock_code, start_year=2008, end_year=2019, scrape_min_interval=45):\n",
    "    stocks_split_info = pd.DataFrame(columns = ['NseCode', 'Company', 'OldFV', 'NewFV', 'SplitDate'])\n",
    "    urls = [\"https://www.moneycontrol.com/stocks/marketinfo/splits/homebody.php?sel_year=\"+str(i) for i in range(start_year, end_year+1)]\n",
    "    for url in urls:\n",
    "        time.sleep(scrape_min_interval*(random.random()+1))\n",
    "        res = requests.get(url)\n",
    "        soup = BeautifulSoup(res.content,'lxml')\n",
    "        split_table = soup.find_all('table')[-2]\n",
    "        split_rows = split_table.find_all('tr')\n",
    "        rows_with_data = split_rows[3:len(split_rows)-3]\n",
    "        for row in rows_with_data:\n",
    "            if(row.find('a')):\n",
    "                try:\n",
    "                    code = BeautifulSoup(requests.get(\"https://www.moneycontrol.com\"+row.find('a')['href']).content, 'lxml').find('div', class_=\"FL gry10\").get_text().split('|')[1][5:].strip()\n",
    "                except:\n",
    "                    code = 'notScraping'\n",
    "                company = row.find('a').get_text()\n",
    "                lst = [row.find_all('td')[i].get_text() for i in range(1,4)]\n",
    "                stocks_split_info = stocks_split_info.append({'NseCode':code,'Company':company, 'OldFV':lst[0], 'NewFV':lst[1], 'SplitDate':lst[2]}, ignore_index=True)\n",
    "                \n",
    "        stock_split_df = stocks_split_info[stocks_split_info[\"NseCode\"]==stock_code]\n",
    "        \n"
   ]
  },
  {
   "cell_type": "code",
   "execution_count": 72,
   "metadata": {},
   "outputs": [],
   "source": [
    "def getBonusData(start_year=2008, end_year=2019, sleep_interval=40):\n",
    "    bonus_issue_info = pd.DataFrame(columns = ['NseCode', 'Company', 'Ratio', 'AnnouncementDate', 'RecordDate', 'Ex-Bonus'])\n",
    "    urls = [\"https://www.moneycontrol.com/stocks/marketinfo/bonus/homebody.php?sel_year=\"+str(i) for i in range(start_year, end_year+1)]\n",
    "    for url in urls:\n",
    "        #time.sleep(sleep_interval*(random.random()+1))\n",
    "        res = requests.get(url)\n",
    "        soup = BeautifulSoup(res.content,'lxml')\n",
    "        bonus_table = soup.find_all('table', class_=\"b_12 dvdtbl\")[0]\n",
    "        bonus_rows = bonus_table.find_all('tr')\n",
    "        rows_with_data = bonus_rows[2:]\n",
    "        for row in rows_with_data:\n",
    "            if(row.find('a')):\n",
    "                try:\n",
    "                    code = BeautifulSoup(requests.get(\"https://www.moneycontrol.com\"+row.find('a')['href']).content, 'lxml').find('div', class_=\"FL gry10\").get_text().split('|')[1][5:].strip()\n",
    "                except:\n",
    "                    code = 'notScraping'\n",
    "                company = row.find('a').get_text()\n",
    "                lst = [row.find_all('td')[i].get_text() for i in range(1,5)]\n",
    "                bonus_issue_info = bonus_issue_info.append({'NseCode': code, 'Company':company, 'Ratio':lst[0], 'AnnouncementDate':lst[1], 'RecordDate':lst[2], 'Ex-Bonus':lst[3]}, ignore_index=True)\n",
    "    return bonus_issue_info       "
   ]
  },
  {
   "cell_type": "code",
   "execution_count": null,
   "metadata": {},
   "outputs": [],
   "source": [
    "def adjust_split(stockCode):\n",
    "    \n",
    "    price_df = extractStockData(stockCode)\n",
    "    \n",
    "    "
   ]
  },
  {
   "cell_type": "code",
   "execution_count": 61,
   "metadata": {},
   "outputs": [],
   "source": [
    "stocks_split_info = pd.DataFrame(columns = ['NseCode', 'Company', 'OldFV', 'NewFV', 'SplitDate'])"
   ]
  },
  {
   "cell_type": "code",
   "execution_count": null,
   "metadata": {},
   "outputs": [],
   "source": [
    "a = getBonusData(start_year=2018, end_year=2019)\n",
    "a"
   ]
  },
  {
   "cell_type": "code",
   "execution_count": 63,
   "metadata": {},
   "outputs": [
    {
     "data": {
      "text/plain": [
       "'BRITANNIA'"
      ]
     },
     "execution_count": 63,
     "metadata": {},
     "output_type": "execute_result"
    }
   ],
   "source": [
    "stocks_split_info['NseCode'][2]"
   ]
  },
  {
   "cell_type": "code",
   "execution_count": 69,
   "metadata": {},
   "outputs": [
    {
     "data": {
      "text/plain": [
       "'MOTHERSUMI'"
      ]
     },
     "execution_count": 69,
     "metadata": {},
     "output_type": "execute_result"
    }
   ],
   "source": [
    "\n",
    "s = BeautifulSoup(requests.get(\"https://www.moneycontrol.com/india/stockpricequote/autoancillaries/mothersonsumisystems/MSS01\").content, 'lxml').find('div', class_=\"FL gry10\").get_text().split('|')[1][5:].strip()\n",
    "s"
   ]
  },
  {
   "cell_type": "code",
   "execution_count": null,
   "metadata": {},
   "outputs": [],
   "source": []
  }
 ],
 "metadata": {
  "kernelspec": {
   "display_name": "Python 3",
   "language": "python",
   "name": "python3"
  },
  "language_info": {
   "codemirror_mode": {
    "name": "ipython",
    "version": 3
   },
   "file_extension": ".py",
   "mimetype": "text/x-python",
   "name": "python",
   "nbconvert_exporter": "python",
   "pygments_lexer": "ipython3",
   "version": "3.5.3"
  }
 },
 "nbformat": 4,
 "nbformat_minor": 2
}
