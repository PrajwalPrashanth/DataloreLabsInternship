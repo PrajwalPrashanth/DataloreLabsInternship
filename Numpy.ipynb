{
 "cells": [
  {
   "cell_type": "markdown",
   "metadata": {},
   "source": [
    "# NumPy Introduction"
   ]
  },
  {
   "cell_type": "markdown",
   "metadata": {},
   "source": [
    "* Importing numpy pacakage with a common alias as **_np_**\n",
    "* **_Seed_**: for reproducibility of the same pseduo random numbers"
   ]
  },
  {
   "cell_type": "code",
   "execution_count": 2,
   "metadata": {},
   "outputs": [],
   "source": [
    "import numpy as np\n",
    "np.random.seed(123)"
   ]
  },
  {
   "cell_type": "markdown",
   "metadata": {},
   "source": [
    "## NumPy Arrays\n",
    "\n",
    "* Numpy provides N-dimentional array type (ndarray)\n",
    "* N-dimensional container of items of same type\n",
    "* ndarrays are homogenous, every item takes up same size block of memory\n",
    "* each item in the array is interpreted specified by a data-type object (int, float etc...)\n",
    "* An item extracted from an array by indexing is represented by a array-scalar python object\n",
    "* In numpy dimensions are know as axes, number of dimensions/axes is rank"
   ]
  },
  {
   "attachments": {
    "image.png": {
     "image/png": "[encoded data removed]"
    }
   },
   "cell_type": "markdown",
   "metadata": {},
   "source": [
    "![image.png](attachment:image.png)\n",
    "\n",
    "**_(image source: docs.scipy.org)_**"
   ]
  },
  {
   "cell_type": "markdown",
   "metadata": {},
   "source": [
    "## Why NumPy ?\n",
    "\n",
    "When we have python lists with all those functionalites why numpy is required ? <br><br>\n",
    "Using numpy gives us performance boost, memory efficient. Provides functionalities like airthmetic operations, indexing, slicing, iterating, shape manipulation, copies, stacking, broadcasting........"
   ]
  },
  {
   "cell_type": "code",
   "execution_count": 269,
   "metadata": {},
   "outputs": [],
   "source": [
    "numpy_array_10pow6 = np.arange(10**6)\n",
    "numpy_array_10pow7 = np.arange(10**7)\n",
    "python_list_10pow6 = list(range(10**6))\n",
    "python_list_10pow7 = list(range(10**7))"
   ]
  },
  {
   "cell_type": "markdown",
   "metadata": {},
   "source": [
    "* ### Memory size\n",
    "\n",
    "    **_sys.getsizeof_**: returns the size of the object in bytes"
   ]
  },
  {
   "cell_type": "code",
   "execution_count": 270,
   "metadata": {
    "scrolled": true
   },
   "outputs": [
    {
     "name": "stdout",
     "output_type": "stream",
     "text": [
      "Comparison array and list of 10 power 6 elements\n",
      "np array : 8000096 bytes\n",
      "py list : 9000112 bytes\n",
      "\n",
      "Comparison array and list of 10 power 7 elements\n",
      "np array : 80000096 bytes\n",
      "py list : 90000112 bytes\n"
     ]
    }
   ],
   "source": [
    "import sys\n",
    "\n",
    "print(\"Comparison array and list of 10 power 6 elements\")\n",
    "print(\"np array :\",sys.getsizeof(numpy_array_10pow6),\"bytes\")\n",
    "print(\"py list :\",sys.getsizeof(python_list_10pow6),\"bytes\\n\")\n",
    "\n",
    "print(\"Comparison array and list of 10 power 7 elements\")\n",
    "print(\"np array :\",sys.getsizeof(numpy_array_10pow7),\"bytes\")\n",
    "print(\"py list :\",sys.getsizeof(python_list_10pow7),\"bytes\")"
   ]
  },
  {
   "cell_type": "markdown",
   "metadata": {},
   "source": [
    "* ### Performance\n",
    "\n",
    "   * **_timeit magic command_**: returns time taken for execution of the statement in that line \n",
    "   * Also during dot product and matrix multiplication numpy commands are vectorized which make it lot quicker"
   ]
  },
  {
   "cell_type": "code",
   "execution_count": 271,
   "metadata": {
    "scrolled": false
   },
   "outputs": [
    {
     "name": "stdout",
     "output_type": "stream",
     "text": [
      "Exececution time sum of 10 power 6 elements \n",
      "\n",
      "np array:\t587 µs ± 10.7 µs per loop (mean ± std. dev. of 7 runs, 1000 loops each)\n",
      "py list:\t5.7 ms ± 14.5 µs per loop (mean ± std. dev. of 7 runs, 100 loops each)\n",
      "\n",
      "\n",
      "Exececution time sum of 10 power 7 elements \n",
      "\n",
      "np array:\t7.83 ms ± 1.24 ms per loop (mean ± std. dev. of 7 runs, 100 loops each)\n",
      "py list:\t60.7 ms ± 1.53 ms per loop (mean ± std. dev. of 7 runs, 10 loops each)\n"
     ]
    }
   ],
   "source": [
    "print(\"Exececution time sum of 10 power 6 elements \\n\")\n",
    "print(\"np array:\", end=\"\\t\")\n",
    "%timeit numpy_array_10pow6.sum()\n",
    "print(\"py list:\", end=\"\\t\") \n",
    "%timeit sum(python_list_10pow6)\n",
    "print(\"\\n\")\n",
    "\n",
    "print(\"Exececution time sum of 10 power 7 elements \\n\")\n",
    "print(\"np array:\", end=\"\\t\") \n",
    "%timeit numpy_array_10pow7.sum()\n",
    "print(\"py list:\", end=\"\\t\") \n",
    "%timeit sum(python_list_10pow7)"
   ]
  },
  {
   "cell_type": "markdown",
   "metadata": {},
   "source": [
    "# Different type of Arrays\n",
    "\n",
    "**Attributes of ndarray**\n",
    "* **_ndarray.ndim_** : no. of axes/dimensions/rank\n",
    "* **_ndarray.shape_** : tuple indicating the size in each axes/dimensions\n",
    "* **_ndarray.size_** : total no. of elements"
   ]
  },
  {
   "cell_type": "markdown",
   "metadata": {},
   "source": [
    "## Scalars / Rank 0 Array\n",
    "\n",
    "* A scalar is a value, a single element in a array.\n",
    "* It has no axes, no shape"
   ]
  },
  {
   "cell_type": "code",
   "execution_count": 124,
   "metadata": {
    "scrolled": true
   },
   "outputs": [
    {
     "name": "stdout",
     "output_type": "stream",
     "text": [
      "x:\t\t\t 3\n",
      "dimensionality of x:\t 0\n",
      "shape of x:\t\t ()\n",
      "size of x:\t\t 1\n"
     ]
    }
   ],
   "source": [
    "x = np.array(3)\n",
    "print (\"x:\\t\\t\\t\", x)\n",
    "print(\"dimensionality of x:\\t\", x.ndim)\n",
    "print(\"shape of x:\\t\\t\", x.shape)\n",
    "print(\"size of x:\\t\\t\", x.size)"
   ]
  },
  {
   "cell_type": "markdown",
   "metadata": {},
   "source": [
    "## Vector / Rank 1 Array / 1-d Array\n",
    "\n",
    "* A vector is a collection of scalars of ndim 0, in one axes\n",
    "* shape is (n,)"
   ]
  },
  {
   "cell_type": "code",
   "execution_count": 141,
   "metadata": {},
   "outputs": [
    {
     "name": "stdout",
     "output_type": "stream",
     "text": [
      "x:\t\t\t [1.  2.  3.1]\n",
      "first element(scalar):\t 1.0\n",
      "dimensionality of x:\t 1\n",
      "shape of x:\t\t (3,)\n",
      "size of x:\t\t 3\n"
     ]
    }
   ],
   "source": [
    "x = np.array([1, 2, 3.1])\n",
    "print (\"x:\\t\\t\\t\", x)\n",
    "print(\"first element(scalar):\\t\", x[0])\n",
    "print(\"dimensionality of x:\\t\", x.ndim)\n",
    "print(\"shape of x:\\t\\t\", x.shape)\n",
    "print(\"size of x:\\t\\t\", x.size)"
   ]
  },
  {
   "cell_type": "markdown",
   "metadata": {},
   "source": [
    "## Matrix / Rank 2 Array / 2-d Array   (with only one row)\n",
    "\n",
    "* This array is confused for 1d array as it has only one row, in numpy it is a 2d array as you can see it below with one row"
   ]
  },
  {
   "cell_type": "code",
   "execution_count": 139,
   "metadata": {
    "scrolled": true
   },
   "outputs": [
    {
     "name": "stdout",
     "output_type": "stream",
     "text": [
      "x:\t\t\t [[1.  2.  3.1]]\n",
      "1st row 1st col(scalar): 1.0\n",
      "dimensionality of x:\t 2\n",
      "shape of x:\t\t (1, 3)\n",
      "size of x:\t\t 3\n"
     ]
    }
   ],
   "source": [
    "x = np.array([[1, 2, 3.1]])\n",
    "print(\"x:\\t\\t\\t\", x)\n",
    "print(\"1st row 1st col(scalar):\", x[0,0])\n",
    "print(\"dimensionality of x:\\t\", x.ndim)\n",
    "print(\"shape of x:\\t\\t\", x.shape)\n",
    "print(\"size of x:\\t\\t\", x.size)"
   ]
  },
  {
   "cell_type": "markdown",
   "metadata": {},
   "source": [
    "## Matrix / Rank 2 Array / 2-d Array\n",
    "\n",
    "* Regular matrix with collection of vectors in another axes, therefore 2 axes "
   ]
  },
  {
   "cell_type": "code",
   "execution_count": 137,
   "metadata": {},
   "outputs": [
    {
     "name": "stdout",
     "output_type": "stream",
     "text": [
      "x: [[1.  2.  3.1]\n",
      " [1.  2.  4.1]]\n",
      "2nd row(vector):\t [1.  2.  4.1]\n",
      "2st row 2st col(scalar): 2.0\n",
      "dimensionality of x:\t 2\n",
      "shape of x:\t\t (2, 3)\n",
      "size of x:\t\t 6\n"
     ]
    }
   ],
   "source": [
    "x = np.array([[1, 2, 3.1],[1, 2, 4.1]])\n",
    "print (\"x:\", x)\n",
    "print(\"2nd row(vector):\\t\", x[1])\n",
    "print(\"2st row 2st col(scalar):\", x[1,1])\n",
    "print(\"dimensionality of x:\\t\", x.ndim)\n",
    "print(\"shape of x:\\t\\t\", x.shape)\n",
    "print(\"size of x:\\t\\t\", x.size)"
   ]
  },
  {
   "cell_type": "markdown",
   "metadata": {},
   "source": [
    "### And so on Rank N Arrays with N axes"
   ]
  },
  {
   "cell_type": "markdown",
   "metadata": {},
   "source": [
    "# Array Creation"
   ]
  },
  {
   "cell_type": "markdown",
   "metadata": {},
   "source": [
    "**np.array()**\n",
    "* Using array function you can initilize a np array\n",
    "* You can specify the datatype of the elements by passing it in the parameter dtype with (int, float, complex and np datatype like np.int16, np.int32, np.float16......), it overrides the original scalar's datatype\n",
    "* if no datatype is specified the highest datatype of the elements is chosen for all the elements"
   ]
  },
  {
   "cell_type": "code",
   "execution_count": 154,
   "metadata": {},
   "outputs": [
    {
     "name": "stdout",
     "output_type": "stream",
     "text": [
      "[[1.  2. ]\n",
      " [3.  4.1]] \t float64\n",
      "[1 2] \t\t int64\n"
     ]
    }
   ],
   "source": [
    "a = np.array([[1,2],[3,4.1]])\n",
    "b = np.array([1,2.1], dtype=int)\n",
    "print(a,\"\\t\", a.dtype)\n",
    "print(b,\"\\t\\t\", b.dtype)"
   ]
  },
  {
   "cell_type": "markdown",
   "metadata": {},
   "source": [
    "**Range functions to create array**\n",
    "* **_np.arange()_** : creates a vector from 1st argument to 2nd argument(excluded), 3rd argument by default will be 1 its the step size(difference between any two consecutive elements) for the series.\n",
    "* **_np.linsapce()_** : similar to arange creates a vector for the range but the 3rd arguments specifies how many elements for the array and is distrubuted in that range."
   ]
  },
  {
   "cell_type": "code",
   "execution_count": 162,
   "metadata": {
    "scrolled": true
   },
   "outputs": [
    {
     "name": "stdout",
     "output_type": "stream",
     "text": [
      "[2 4 6 8]\n",
      "[0.         0.6981317  1.3962634  2.0943951  2.7925268  3.4906585\n",
      " 4.1887902  4.88692191 5.58505361 6.28318531]\n"
     ]
    }
   ],
   "source": [
    "a = np.arange(2, 10, 2)\n",
    "b = np.linspace(0, 2*np.pi, 10) # can be used to plot continous wave function, more no. of points smoother the curve.b\n",
    "print(a)\n",
    "print(b)"
   ]
  },
  {
   "cell_type": "markdown",
   "metadata": {},
   "source": [
    "**Random Initilizations**\n",
    "* **_np.random.rand()_** : fills the shape arguments with range 0 to 1\n",
    "* **_np.random.randn()_** : fills the shape arguments with range -1 to 1"
   ]
  },
  {
   "cell_type": "code",
   "execution_count": 167,
   "metadata": {},
   "outputs": [
    {
     "name": "stdout",
     "output_type": "stream",
     "text": [
      "[[0.95444886 0.49208351 0.70651353]\n",
      " [0.03651707 0.09268238 0.84055847]]\n",
      "[[ 0.33259947  1.13511979  0.86989798]\n",
      " [ 1.09772632 -3.92057403 -1.50910288]]\n"
     ]
    }
   ],
   "source": [
    "a = np.random.rand(2,3)\n",
    "b = np.random.randn(2,3)*2 # can multiply range\n",
    "print(a)\n",
    "print(b)"
   ]
  },
  {
   "cell_type": "markdown",
   "metadata": {},
   "source": [
    "**other functions**\n",
    "\n",
    "* **_np.eye()_** : returns the identity matrix \n",
    "* **_np.zeros()_** : returns a matrix full of zeros, shape to passed as a single tuple\n",
    "* **_np.ones()_** : returns a matrix full of ones, shape to passed as a single tuple"
   ]
  },
  {
   "cell_type": "code",
   "execution_count": 175,
   "metadata": {},
   "outputs": [
    {
     "name": "stdout",
     "output_type": "stream",
     "text": [
      "[[1. 0. 0.]\n",
      " [0. 1. 0.]\n",
      " [0. 0. 1.]]\n",
      "[[0. 0. 0.]\n",
      " [0. 0. 0.]\n",
      " [0. 0. 0.]]\n",
      "[[5. 5. 5.]\n",
      " [5. 5. 5.]\n",
      " [5. 5. 5.]]\n"
     ]
    }
   ],
   "source": [
    "a = np.eye(3,3)\n",
    "b = np.zeros((3,3))\n",
    "c = np.ones((3,3))*5\n",
    "print(a)\n",
    "print(b)\n",
    "print(c)"
   ]
  },
  {
   "cell_type": "markdown",
   "metadata": {},
   "source": [
    "**saving and loading**\n",
    "\n",
    "* **_np.fromfucntion()_** : loads the array from the function argument, shape, datatype\n",
    "* **_np.save()_** : saves the 2nd argument np array to 1st argument named file of .npy format\n",
    "* **_np.load()_** : loads the np array in .npy format"
   ]
  },
  {
   "cell_type": "code",
   "execution_count": 186,
   "metadata": {
    "scrolled": true
   },
   "outputs": [
    {
     "name": "stdout",
     "output_type": "stream",
     "text": [
      "[[0 1 2]\n",
      " [1 2 3]\n",
      " [2 3 4]]\n",
      "[[0 1 2]\n",
      " [1 2 3]\n",
      " [2 3 4]]\n"
     ]
    }
   ],
   "source": [
    "a = np.fromfunction(lambda i, j: i + j, (3, 3), dtype=int)\n",
    "print(a)\n",
    "np.save(\"array\", a)\n",
    "b = np.load(\"array.npy\")\n",
    "print(b)"
   ]
  },
  {
   "cell_type": "markdown",
   "metadata": {},
   "source": [
    "# Array Indexing"
   ]
  },
  {
   "cell_type": "markdown",
   "metadata": {},
   "source": [
    "**Accessing and slicing**\n",
    "\n",
    "* **:** is used to specify range or default consider all the elements in that axes\n",
    "* **...**  is to specify all the elements of the unmentioned axes"
   ]
  },
  {
   "cell_type": "code",
   "execution_count": 212,
   "metadata": {},
   "outputs": [
    {
     "name": "stdout",
     "output_type": "stream",
     "text": [
      "[[1 2 3]\n",
      " [4 5 6]]\n",
      "1st row 2nd column:\t 2\n",
      "sliced 2nd column:\t [2 5]\n",
      "sliced matrix of all rows and 1,2 cloumns: [[1 2]\n",
      " [4 5]]\n",
      "\n",
      " Rank 4 array \n",
      " [[[[0.74039869 0.03213296]\n",
      "   [0.54849274 0.44230883]]\n",
      "\n",
      "  [[0.60553825 0.51906164]\n",
      "   [0.42737223 0.30629609]]]\n",
      "\n",
      "\n",
      " [[[0.9951699  0.91499586]\n",
      "   [0.86243641 0.98017631]]\n",
      "\n",
      "  [[0.90230312 0.72574973]\n",
      "   [0.28827273 0.9451015 ]]]]\n",
      "\n",
      " Rank 2 slice \n",
      " [[0.44230883 0.30629609]\n",
      " [0.98017631 0.9451015 ]]\n"
     ]
    }
   ],
   "source": [
    "a = np.array([[1, 2, 3],[4, 5, 6]])\n",
    "print(a)\n",
    "print(\"1st row 2nd column:\\t\", a[0,1])\n",
    "print(\"sliced 2nd column:\\t\", a[:,1])\n",
    "print(\"sliced matrix of all rows and 1,2 cloumns:\", a[:,:2])\n",
    "a = np.random.rand(2,2,2,2)\n",
    "print(\"\\n Rank 4 array \\n\",a)\n",
    "print(\"\\n Rank 2 slice \\n\", a[...,1,1])"
   ]
  },
  {
   "cell_type": "markdown",
   "metadata": {},
   "source": [
    "**Slicing in NumPy and Python is different**\n",
    "\n",
    "* Slice in numpy array is a view, changes made to a view also reflects in the original array \n",
    "* Slice in python list is a copy, copy is stored in the new variable"
   ]
  },
  {
   "cell_type": "code",
   "execution_count": 203,
   "metadata": {
    "scrolled": true
   },
   "outputs": [
    {
     "name": "stdout",
     "output_type": "stream",
     "text": [
      "[0 2 3] [0 2]\n",
      "[1, 2, 3] [0, 2]\n"
     ]
    }
   ],
   "source": [
    "a = np.array([1, 2, 3])\n",
    "b = [1, 2, 3]\n",
    "\n",
    "c = a[:2]\n",
    "d = b[:2]\n",
    "\n",
    "c[0] = d[0] = 0\n",
    "\n",
    "print(a, c)\n",
    "print(b, d)"
   ]
  },
  {
   "cell_type": "markdown",
   "metadata": {},
   "source": [
    "**Integer array indexing**"
   ]
  },
  {
   "cell_type": "code",
   "execution_count": 222,
   "metadata": {},
   "outputs": [
    {
     "name": "stdout",
     "output_type": "stream",
     "text": [
      "[[[0.18027451 0.28442072 0.96635281]\n",
      "  [0.1206562  0.57207423 0.91136645]\n",
      "  [0.60349547 0.21829406 0.72088607]]\n",
      "\n",
      " [[0.14659171 0.98779983 0.59963645]\n",
      "  [0.63677712 0.26196782 0.09660217]\n",
      "  [0.5268713  0.0662461  0.25746729]]\n",
      "\n",
      " [[0.45406827 0.75385073 0.87031914]\n",
      "  [0.86152508 0.96987361 0.00764907]\n",
      "  [0.34635318 0.29776545 0.81585002]]]\n",
      "\n",
      " [0.87031914 0.1206562  0.0662461 ]\n"
     ]
    }
   ],
   "source": [
    "a = np.random.rand(3, 3, 3)\n",
    "print(a)\n",
    "b = np.array([0, 1, 2])\n",
    "c = np.array([2, 0, 1])\n",
    "print(\"\\n\", a[c, b, c])"
   ]
  },
  {
   "cell_type": "markdown",
   "metadata": {},
   "source": [
    "**Boolean array indexing**"
   ]
  },
  {
   "cell_type": "code",
   "execution_count": 226,
   "metadata": {
    "scrolled": true
   },
   "outputs": [
    {
     "name": "stdout",
     "output_type": "stream",
     "text": [
      "[[0.473138   0.99371261 0.19330956]\n",
      " [0.76728982 0.84129166 0.57824388]\n",
      " [0.81208889 0.13357838 0.30892271]] \n",
      "\n",
      "[[False  True False]\n",
      " [ True  True  True]\n",
      " [ True False False]] \n",
      "\n",
      "[0.99371261 0.76728982 0.84129166 0.57824388 0.81208889]\n"
     ]
    }
   ],
   "source": [
    "a = np.random.rand(3, 3)\n",
    "print(a, \"\\n\")\n",
    "print(a>.5, \"\\n\") # returns array of bools with true and flase in place\n",
    "print(a[a>.5]) # returns all the elements passing the condition"
   ]
  },
  {
   "cell_type": "markdown",
   "metadata": {},
   "source": [
    "**Iterating through first axes**"
   ]
  },
  {
   "cell_type": "code",
   "execution_count": 237,
   "metadata": {
    "scrolled": false
   },
   "outputs": [
    {
     "name": "stdout",
     "output_type": "stream",
     "text": [
      "[[0.49181313 0.19781451 0.12585074]\n",
      " [0.27911155 0.97225961 0.84858664]\n",
      " [0.87524066 0.7998581  0.01968029]]\n",
      "[[0.36603756 0.89621382 0.81323298]\n",
      " [0.58005876 0.94044935 0.5836186 ]\n",
      " [0.64224449 0.69378467 0.04219345]]\n",
      "[[0.14411849 0.50324051 0.32215656]\n",
      " [0.82325582 0.46070257 0.19970968]\n",
      " [0.30359463 0.35687496 0.27319664]]\n"
     ]
    }
   ],
   "source": [
    "a = np.random.rand(3, 3, 3)\n",
    "\n",
    "for row in a:\n",
    "    print(row)"
   ]
  },
  {
   "cell_type": "markdown",
   "metadata": {},
   "source": [
    "**Iterating through all the elements**\n",
    "\n",
    "* **_ndarray.flat_** : is a iterator \n",
    "* **_ravel()_** : returns the flattened array"
   ]
  },
  {
   "cell_type": "code",
   "execution_count": 238,
   "metadata": {},
   "outputs": [
    {
     "name": "stdout",
     "output_type": "stream",
     "text": [
      "0.4918131345963038\n",
      "0.19781451476390344\n",
      "0.12585074148158115\n",
      "0.27911154606987987\n",
      "0.9722596138223761\n",
      "0.8485866381555572\n",
      "0.8752406630877777\n",
      "0.7998580993390798\n",
      "0.01968029325099996\n",
      "0.3660375629089514\n",
      "0.8962138232702693\n",
      "0.8132329770049697\n",
      "0.5800587597729296\n",
      "0.9404493507579278\n",
      "0.5836186005066847\n",
      "0.6422444886257379\n",
      "0.6937846702626401\n",
      "0.042193445184700695\n",
      "0.1441184949416282\n",
      "0.5032405071710186\n",
      "0.32215656205265975\n",
      "0.8232558158885318\n",
      "0.4607025734004946\n",
      "0.199709678360793\n",
      "0.30359462768253875\n",
      "0.3568749567485344\n",
      "0.2731966391901639\n"
     ]
    }
   ],
   "source": [
    "for i in a.flat:\n",
    "    print(i)"
   ]
  },
  {
   "cell_type": "code",
   "execution_count": 239,
   "metadata": {
    "scrolled": false
   },
   "outputs": [
    {
     "data": {
      "text/plain": [
       "array([0.49181313, 0.19781451, 0.12585074, 0.27911155, 0.97225961,\n",
       "       0.84858664, 0.87524066, 0.7998581 , 0.01968029, 0.36603756,\n",
       "       0.89621382, 0.81323298, 0.58005876, 0.94044935, 0.5836186 ,\n",
       "       0.64224449, 0.69378467, 0.04219345, 0.14411849, 0.50324051,\n",
       "       0.32215656, 0.82325582, 0.46070257, 0.19970968, 0.30359463,\n",
       "       0.35687496, 0.27319664])"
      ]
     },
     "execution_count": 239,
     "metadata": {},
     "output_type": "execute_result"
    }
   ],
   "source": [
    "a.ravel()"
   ]
  },
  {
   "cell_type": "markdown",
   "metadata": {},
   "source": [
    "# Array Shape Manipulation\n",
    "\n",
    "* As long as the number of elements in the previous and next shape, it'll be reshaped.\n",
    "* Original array is read first axes n wise then axes n-1 wise and so on... lastly axes 0 wise(row)\n",
    "* Reshaped array is filled first axes n wise then axes n-1 wise and so on... lastly axes 0 wise(row)"
   ]
  },
  {
   "cell_type": "code",
   "execution_count": 254,
   "metadata": {
    "scrolled": false
   },
   "outputs": [
    {
     "name": "stdout",
     "output_type": "stream",
     "text": [
      "(100,) \t [ 0  1  2  3  4  5  6  7  8  9 10 11 12 13 14 15 16 17 18 19 20 21 22 23\n",
      " 24 25 26 27 28 29 30 31 32 33 34 35 36 37 38 39 40 41 42 43 44 45 46 47\n",
      " 48 49 50 51 52 53 54 55 56 57 58 59 60 61 62 63 64 65 66 67 68 69 70 71\n",
      " 72 73 74 75 76 77 78 79 80 81 82 83 84 85 86 87 88 89 90 91 92 93 94 95\n",
      " 96 97 98 99] \n",
      "\n",
      "(4, 25) \t [[ 0  1  2  3  4  5  6  7  8  9 10 11 12 13 14 15 16 17 18 19 20 21 22 23\n",
      "  24]\n",
      " [25 26 27 28 29 30 31 32 33 34 35 36 37 38 39 40 41 42 43 44 45 46 47 48\n",
      "  49]\n",
      " [50 51 52 53 54 55 56 57 58 59 60 61 62 63 64 65 66 67 68 69 70 71 72 73\n",
      "  74]\n",
      " [75 76 77 78 79 80 81 82 83 84 85 86 87 88 89 90 91 92 93 94 95 96 97 98\n",
      "  99]] \n",
      "\n",
      "(10, 10) \t [[ 0  1  2  3  4  5  6  7  8  9]\n",
      " [10 11 12 13 14 15 16 17 18 19]\n",
      " [20 21 22 23 24 25 26 27 28 29]\n",
      " [30 31 32 33 34 35 36 37 38 39]\n",
      " [40 41 42 43 44 45 46 47 48 49]\n",
      " [50 51 52 53 54 55 56 57 58 59]\n",
      " [60 61 62 63 64 65 66 67 68 69]\n",
      " [70 71 72 73 74 75 76 77 78 79]\n",
      " [80 81 82 83 84 85 86 87 88 89]\n",
      " [90 91 92 93 94 95 96 97 98 99]] \n",
      "\n"
     ]
    }
   ],
   "source": [
    "a = np.arange(100)\n",
    "print(a.shape, \"\\t\", a, \"\\n\")\n",
    "\n",
    "# First axes 1(col) 25 elements are filled and then moves one step in axes 0(row) direction.\n",
    "b = a.reshape(4,25)\n",
    "print(b.shape, \"\\t\", b, \"\\n\")\n",
    "\n",
    "c = b.reshape(10,10)\n",
    "print(c.shape, \"\\t\", c, \"\\n\")"
   ]
  },
  {
   "cell_type": "code",
   "execution_count": 258,
   "metadata": {
    "scrolled": false
   },
   "outputs": [
    {
     "name": "stdout",
     "output_type": "stream",
     "text": [
      "(100,) \t [ 0  1  2  3  4  5  6  7  8  9 10 11 12 13 14 15 16 17 18 19 20 21 22 23\n",
      " 24 25 26 27 28 29 30 31 32 33 34 35 36 37 38 39 40 41 42 43 44 45 46 47\n",
      " 48 49 50 51 52 53 54 55 56 57 58 59 60 61 62 63 64 65 66 67 68 69 70 71\n",
      " 72 73 74 75 76 77 78 79 80 81 82 83 84 85 86 87 88 89 90 91 92 93 94 95\n",
      " 96 97 98 99] \n",
      "\n",
      "(5, 2, 10) \t [[[ 0  1  2  3  4  5  6  7  8  9]\n",
      "  [10 11 12 13 14 15 16 17 18 19]]\n",
      "\n",
      " [[20 21 22 23 24 25 26 27 28 29]\n",
      "  [30 31 32 33 34 35 36 37 38 39]]\n",
      "\n",
      " [[40 41 42 43 44 45 46 47 48 49]\n",
      "  [50 51 52 53 54 55 56 57 58 59]]\n",
      "\n",
      " [[60 61 62 63 64 65 66 67 68 69]\n",
      "  [70 71 72 73 74 75 76 77 78 79]]\n",
      "\n",
      " [[80 81 82 83 84 85 86 87 88 89]\n",
      "  [90 91 92 93 94 95 96 97 98 99]]] \n",
      "\n",
      "(100,) \t [ 0  1  2  3  4  5  6  7  8  9 10 11 12 13 14 15 16 17 18 19 20 21 22 23\n",
      " 24 25 26 27 28 29 30 31 32 33 34 35 36 37 38 39 40 41 42 43 44 45 46 47\n",
      " 48 49 50 51 52 53 54 55 56 57 58 59 60 61 62 63 64 65 66 67 68 69 70 71\n",
      " 72 73 74 75 76 77 78 79 80 81 82 83 84 85 86 87 88 89 90 91 92 93 94 95\n",
      " 96 97 98 99] \n",
      "\n",
      "(10, 2, 5) \t [[[ 0 20 40 60 80]\n",
      "  [10 30 50 70 90]]\n",
      "\n",
      " [[ 1 21 41 61 81]\n",
      "  [11 31 51 71 91]]\n",
      "\n",
      " [[ 2 22 42 62 82]\n",
      "  [12 32 52 72 92]]\n",
      "\n",
      " [[ 3 23 43 63 83]\n",
      "  [13 33 53 73 93]]\n",
      "\n",
      " [[ 4 24 44 64 84]\n",
      "  [14 34 54 74 94]]\n",
      "\n",
      " [[ 5 25 45 65 85]\n",
      "  [15 35 55 75 95]]\n",
      "\n",
      " [[ 6 26 46 66 86]\n",
      "  [16 36 56 76 96]]\n",
      "\n",
      " [[ 7 27 47 67 87]\n",
      "  [17 37 57 77 97]]\n",
      "\n",
      " [[ 8 28 48 68 88]\n",
      "  [18 38 58 78 98]]\n",
      "\n",
      " [[ 9 29 49 69 89]\n",
      "  [19 39 59 79 99]]] \n",
      "\n"
     ]
    }
   ],
   "source": [
    "# reshaped back to original vector\n",
    "d = b.reshape(100,)\n",
    "print(d.shape, \"\\t\", d, \"\\n\")\n",
    "\n",
    "# first axes 2(10 elements), then in axes 1(2 elements), then axes 0(5 elements)\n",
    "e = c.reshape(5,2,10)\n",
    "print(e.shape, \"\\t\", e, \"\\n\")\n",
    "\n",
    "# Vector's Transpose is the same vector\n",
    "f = a.T\n",
    "print(f.shape, \"\\t\", f, \"\\n\")\n",
    "\n",
    "# Rank 2 and above arrays' Transpose will change the order of axes\n",
    "g = e.T\n",
    "print(g.shape, \"\\t\", g, \"\\n\")"
   ]
  },
  {
   "cell_type": "markdown",
   "metadata": {},
   "source": [
    "* **_ndarray.reshape()_** : returns reshaped array \n",
    "* **_ndarray.resize()_** : resize the original array"
   ]
  },
  {
   "cell_type": "code",
   "execution_count": 259,
   "metadata": {
    "scrolled": true
   },
   "outputs": [
    {
     "name": "stdout",
     "output_type": "stream",
     "text": [
      "(2, 50) \t [[ 0  1  2  3  4  5  6  7  8  9 10 11 12 13 14 15 16 17 18 19 20 21 22 23\n",
      "  24 25 26 27 28 29 30 31 32 33 34 35 36 37 38 39 40 41 42 43 44 45 46 47\n",
      "  48 49]\n",
      " [50 51 52 53 54 55 56 57 58 59 60 61 62 63 64 65 66 67 68 69 70 71 72 73\n",
      "  74 75 76 77 78 79 80 81 82 83 84 85 86 87 88 89 90 91 92 93 94 95 96 97\n",
      "  98 99]]\n"
     ]
    }
   ],
   "source": [
    "a.resize(2,50)\n",
    "print(a.shape, \"\\t\", a)"
   ]
  },
  {
   "cell_type": "markdown",
   "metadata": {},
   "source": [
    "If a dimension is given as -1 axes size is automatically calculated, only one axes can have -1"
   ]
  },
  {
   "cell_type": "code",
   "execution_count": 262,
   "metadata": {},
   "outputs": [
    {
     "data": {
      "text/plain": [
       "array([[[ 0,  1,  2,  3,  4,  5,  6,  7,  8,  9, 10, 11, 12, 13, 14, 15,\n",
       "         16, 17, 18, 19, 20, 21, 22, 23, 24],\n",
       "        [25, 26, 27, 28, 29, 30, 31, 32, 33, 34, 35, 36, 37, 38, 39, 40,\n",
       "         41, 42, 43, 44, 45, 46, 47, 48, 49]],\n",
       "\n",
       "       [[50, 51, 52, 53, 54, 55, 56, 57, 58, 59, 60, 61, 62, 63, 64, 65,\n",
       "         66, 67, 68, 69, 70, 71, 72, 73, 74],\n",
       "        [75, 76, 77, 78, 79, 80, 81, 82, 83, 84, 85, 86, 87, 88, 89, 90,\n",
       "         91, 92, 93, 94, 95, 96, 97, 98, 99]]])"
      ]
     },
     "execution_count": 262,
     "metadata": {},
     "output_type": "execute_result"
    }
   ],
   "source": [
    "a.reshape(2,2,-1)"
   ]
  },
  {
   "cell_type": "markdown",
   "metadata": {},
   "source": [
    "# Array Math Operations"
   ]
  },
  {
   "cell_type": "markdown",
   "metadata": {},
   "source": [
    "**Basic airthmetic**"
   ]
  },
  {
   "cell_type": "code",
   "execution_count": 263,
   "metadata": {
    "scrolled": true
   },
   "outputs": [
    {
     "name": "stdout",
     "output_type": "stream",
     "text": [
      "x + y:\n",
      " [[2 4]\n",
      " [6 8]]\n",
      "x - y:\n",
      " [[0 0]\n",
      " [0 0]]\n",
      "x * y:\n",
      " [[ 1  4]\n",
      " [ 9 16]]\n",
      "x + y:\n",
      " [[1. 1.]\n",
      " [1. 1.]]\n"
     ]
    }
   ],
   "source": [
    "x = np.array([[1,2], [3,4]])\n",
    "y = np.array([[1,2], [3,4]])\n",
    "print (\"x + y:\\n\", x + y)# or np.add(x,y) \n",
    "print (\"x - y:\\n\", x - y)# or np.sub(x,y)\n",
    "print (\"x * y:\\n\", x * y)# or np.mul(x,y)\n",
    "print (\"x / y:\\n\", x / y)# or np.div(x,y)"
   ]
  },
  {
   "cell_type": "markdown",
   "metadata": {},
   "source": [
    "**Dot Product, Matrix Multiply**\n",
    "\n",
    "**_numpy.dot()_**\n",
    "\n",
    "* If either a or b is 0-D (scalar), it is equivalent to multiply and using numpy.multiply(a, b) or a * b is preferred\n",
    "\n",
    "* If both a and b are 1-D arrays, it is inner product of vectors \n",
    "\n",
    "* If both a and b are 2-D arrays, it is matrix multiplication, but using matmul or a @ b is preferred\n",
    "\n",
    "* If a is an N-D array and b is a 1-D array, it is a sum product over the last axis of a and b\n",
    "\n",
    "* If a is an N-D array and b is an M-D array (where M>=2), it is a sum product over the last axis of a and the second-to-last axis of b\n"
   ]
  },
  {
   "cell_type": "code",
   "execution_count": 11,
   "metadata": {},
   "outputs": [
    {
     "name": "stdout",
     "output_type": "stream",
     "text": [
      "Both are scalars: [ 0  6 12 18 24 30]\n",
      "\n",
      "Both are vectors: 55\n",
      "\n",
      "Both are matrices: [[0.33555593 0.94312628]\n",
      " [0.35659898 0.86055118]]\n",
      "\n",
      "a rank 2, b rank 1: [1.55646513 1.10113944]\n",
      "\n",
      "a rank n, b rank m: [[[0.48609489 0.83852528 0.94792158]\n",
      "  [1.44295022 1.04069418 1.00043468]]\n",
      "\n",
      " [[0.39222918 0.69907829 0.801805  ]\n",
      "  [1.25636144 0.99211599 1.18329515]]]\n"
     ]
    }
   ],
   "source": [
    "a = np.array(6)\n",
    "b = np.arange(6)\n",
    "print(\"Both are scalars:\", np.dot(a,b))\n",
    "\n",
    "a = np.arange(6)\n",
    "b = np.arange(6)\n",
    "print(\"\\nBoth are vectors:\", np.dot(a,b))\n",
    "\n",
    "a = np.random.rand(2,3)\n",
    "b = np.random.rand(3,2)\n",
    "print(\"\\nBoth are matrices:\", np.dot(a,b))\n",
    "\n",
    "a = np.random.rand(2,3)\n",
    "b = np.arange(3)\n",
    "print(\"\\na rank 2, b rank 1:\", np.dot(a,b))\n",
    "\n",
    "a = np.random.rand(2,3)\n",
    "b = np.random.rand(2,3,3)\n",
    "print(\"\\na rank n, b rank m:\", np.dot(a,b))"
   ]
  },
  {
   "cell_type": "markdown",
   "metadata": {},
   "source": [
    "**Why @ or matmul is perferred for matrix multiplication**"
   ]
  },
  {
   "cell_type": "code",
   "execution_count": 3,
   "metadata": {},
   "outputs": [
    {
     "name": "stdout",
     "output_type": "stream",
     "text": [
      "1.95 s ± 48.9 ms per loop (mean ± std. dev. of 7 runs, 1 loop each)\n",
      "1.92 s ± 40.9 ms per loop (mean ± std. dev. of 7 runs, 1 loop each)\n",
      "632 ms ± 8.4 ms per loop (mean ± std. dev. of 7 runs, 1 loop each)\n",
      "645 ms ± 14.6 ms per loop (mean ± std. dev. of 7 runs, 1 loop each)\n"
     ]
    }
   ],
   "source": [
    "x = np.arange(10**6).reshape(1000,1000)\n",
    "%timeit np.dot(x,x)\n",
    "%timeit x.dot(x)       \n",
    "%timeit x @ x          \n",
    "%timeit np.matmul(x,x) "
   ]
  },
  {
   "cell_type": "markdown",
   "metadata": {},
   "source": [
    "**other math methods**"
   ]
  },
  {
   "cell_type": "code",
   "execution_count": 21,
   "metadata": {},
   "outputs": [
    {
     "name": "stdout",
     "output_type": "stream",
     "text": [
      "Trigno \n",
      " [ 0.          0.84147098  0.90929743  0.14112001 -0.7568025 ]\n",
      "[ 1.          0.54030231 -0.41614684 -0.9899925  -0.65364362]\n",
      "[ 0.          1.55740772 -2.18503986 -0.14254654  1.15782128]\n",
      "[  0.          57.29577951 114.59155903 171.88733854 229.18311805]\n",
      "\n",
      "Approximation \n",
      " [0.029 0.636 0.032 0.745 0.473]\n",
      "\n",
      "Floor \n",
      " [0. 0. 0. 0. 0.]\n",
      "\n",
      "Floor \n",
      " [0. 0. 0. 0. 0.]\n",
      "\n",
      "Remainder\n",
      " [0.76939734 0.57377411 0.10263526 0.69983407 0.66116787]\n",
      "\n",
      "Remainder\n",
      " [0.87715297 0.75747879 0.32036738 0.83656086 0.8131223 ]\n",
      "\n",
      "Remainder\n",
      " [1.29971856 1.74284614 9.74324036 1.42891013 1.5124752 ]\n",
      "\n",
      "Remainder\n",
      " [0.45546188 0.18889604 0.00108116 0.34275615 0.28902487]\n"
     ]
    }
   ],
   "source": [
    "# trigno\n",
    "a = np.arange(5)\n",
    "print(\"Trigno \\n\",np.sin(a))\n",
    "print(np.cos(a))\n",
    "print(np.tan(a))\n",
    "print(np.degrees(a))\n",
    "\n",
    "# approximation\n",
    "a = np.random.rand(5)\n",
    "print(\"\\nApproximation \\n\",np.around(a, 3)) # 2nd argument speicifices the no. of decimals to approximated to \n",
    "\n",
    "# floor, largest integer less than the scalar\n",
    "a = np.random.rand(5)\n",
    "print(\"\\nFloor \\n\",np.floor(a)) # largest integer less than the number\n",
    "\n",
    "# ceil, smallest integer greater than the scalar\n",
    "a = np.random.rand(5)\n",
    "print(\"\\nFloor \\n\",np.floor(a)) # largest integer less than the number\n",
    "\n",
    "print(\"\\nRemainder\\n\",np.mod(a,2))\n",
    "print(\"\\nSquare root\\n\",np.sqrt(a))\n",
    "print(\"\\nReciprocal\\n\",np.reciprocal(a))\n",
    "print(\"\\nExponent\\n\",np.power(a,3))\n"
   ]
  },
  {
   "cell_type": "code",
   "execution_count": null,
   "metadata": {},
   "outputs": [],
   "source": []
  }
 ],
 "metadata": {
  "kernelspec": {
   "display_name": "Python 3",
   "language": "python",
   "name": "python3"
  },
  "language_info": {
   "codemirror_mode": {
    "name": "ipython",
    "version": 3
   },
   "file_extension": ".py",
   "mimetype": "text/x-python",
   "name": "python",
   "nbconvert_exporter": "python",
   "pygments_lexer": "ipython3",
   "version": "3.6.7"
  }
 },
 "nbformat": 4,
 "nbformat_minor": 2
}
