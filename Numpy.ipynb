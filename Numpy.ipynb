{
 "cells": [
  {
   "cell_type": "markdown",
   "metadata": {},
   "source": [
    "# NumPy Introduction"
   ]
  },
  {
   "cell_type": "markdown",
   "metadata": {},
   "source": [
    "* Importing numpy pacakage with a common alias as **_np_**\n",
    "* **_Seed_**: for reproducibility of the same pseduo random numbers"
   ]
  },
  {
   "cell_type": "code",
   "execution_count": 3,
   "metadata": {},
   "outputs": [],
   "source": [
    "import numpy as np\n",
    "np.random.seed(123)"
   ]
  },
  {
   "cell_type": "markdown",
   "metadata": {},
   "source": [
    "## NumPy Arrays\n",
    "\n",
    "* Numpy provides N-dimentional array type (ndarray)\n",
    "* N-dimensional container of items of same type\n",
    "* ndarrays are homogenous, every item takes up same size block of memory\n",
    "* each item in the array is interpreted specified by a data-type object (int, float etc...)\n",
    "* An item extracted from an array by indexing is represented by a array-scalar python object\n",
    "* In numpy dimensions are know as axes, number of dimensions/axes is rank"
   ]
  },
  {
   "attachments": {
    "image.png": {
     "image/png": "[encoded data removed]"
    }
   },
   "cell_type": "markdown",
   "metadata": {},
   "source": [
    "![image.png](attachment:image.png)\n",
    "\n",
    "**_(image source: docs.scipy.org)_**"
   ]
  },
  {
   "cell_type": "markdown",
   "metadata": {},
   "source": [
    "## Why NumPy ?\n",
    "\n",
    "When we have python lists with all those functionalites why numpy is required ? <br><br>\n",
    "Using numpy gives us performance boost, memory efficient. Provides functionalities like airthmetic operations, indexing, slicing, iterating, shape manipulation, copies, stacking, broadcasting........"
   ]
  },
  {
   "cell_type": "code",
   "execution_count": 60,
   "metadata": {},
   "outputs": [],
   "source": [
    "numpy_array_10pow6 = np.arange(1000000)\n",
    "numpy_array_10pow7 = np.arange(10000000)\n",
    "python_list_10pow6 = list(range(1000000))\n",
    "python_list_10pow7 = list(range(10000000))"
   ]
  },
  {
   "cell_type": "markdown",
   "metadata": {},
   "source": [
    "* ### Memory size\n",
    "\n",
    "    **_sys.getsizeof_**: returns the size of the object in bytes"
   ]
  },
  {
   "cell_type": "code",
   "execution_count": 70,
   "metadata": {
    "scrolled": true
   },
   "outputs": [
    {
     "name": "stdout",
     "output_type": "stream",
     "text": [
      "Comparison array and list of 10 power 6 elements\n",
      "np array : 8000096 bytes\n",
      "py list : 9000112 bytes\n",
      "\n",
      "Comparison array and list of 10 power 7 elements\n",
      "np array : 80000096 bytes\n",
      "py list : 90000112 bytes\n"
     ]
    }
   ],
   "source": [
    "import sys\n",
    "\n",
    "print(\"Comparison array and list of 10 power 6 elements\")\n",
    "print(\"np array :\",sys.getsizeof(numpy_array_10pow6),\"bytes\")\n",
    "print(\"py list :\",sys.getsizeof(python_list_10pow6),\"bytes\\n\")\n",
    "\n",
    "print(\"Comparison array and list of 10 power 7 elements\")\n",
    "print(\"np array :\",sys.getsizeof(numpy_array_10pow7),\"bytes\")\n",
    "print(\"py list :\",sys.getsizeof(python_list_10pow7),\"bytes\")"
   ]
  },
  {
   "cell_type": "markdown",
   "metadata": {},
   "source": [
    "* ### Performance\n",
    "\n",
    "   * **_timeit magic command_**: returns time taken for execution of the statement in that line \n",
    "   * Also during dot product and matrix multiplication numpy commands are vectorized which make it lot quicker"
   ]
  },
  {
   "cell_type": "code",
   "execution_count": 83,
   "metadata": {
    "scrolled": false
   },
   "outputs": [
    {
     "name": "stdout",
     "output_type": "stream",
     "text": [
      "Exececution time sum of 10 power 6 elements \n",
      "\n",
      "np array:\t599 µs ± 9.45 µs per loop (mean ± std. dev. of 7 runs, 1000 loops each)\n",
      "py list:\t5.98 ms ± 256 µs per loop (mean ± std. dev. of 7 runs, 100 loops each)\n",
      "\n",
      "\n",
      "Exececution time sum of 10 power 7 elements \n",
      "\n",
      "np array:\t5.92 ms ± 57 µs per loop (mean ± std. dev. of 7 runs, 100 loops each)\n",
      "py list:\t59.7 ms ± 1.1 ms per loop (mean ± std. dev. of 7 runs, 10 loops each)\n"
     ]
    }
   ],
   "source": [
    "print(\"Exececution time sum of 10 power 6 elements \\n\")\n",
    "print(\"np array:\", end=\"\\t\")\n",
    "%timeit numpy_array_10pow6.sum()\n",
    "print(\"py list:\", end=\"\\t\") \n",
    "%timeit sum(python_list_10pow6)\n",
    "print(\"\\n\")\n",
    "\n",
    "print(\"Exececution time sum of 10 power 7 elements \\n\")\n",
    "print(\"np array:\", end=\"\\t\") \n",
    "%timeit numpy_array_10pow7.sum()\n",
    "print(\"py list:\", end=\"\\t\") \n",
    "%timeit sum(python_list_10pow7)"
   ]
  },
  {
   "cell_type": "markdown",
   "metadata": {},
   "source": [
    "# Different type of Arrays\n",
    "\n",
    "**Attributes of ndarray**\n",
    "* **_ndarray.ndim_** : no. of axes/dimensions/rank\n",
    "* **_ndarray.shape_** : tuple indicating the size in each axes/dimensions\n",
    "* **_ndarray.size_** : total no. of elements"
   ]
  },
  {
   "cell_type": "markdown",
   "metadata": {},
   "source": [
    "## Scalars / Rank 0 Array\n",
    "\n",
    "* A scalar is a value, a single element in a array.\n",
    "* It has no axes, no shape"
   ]
  },
  {
   "cell_type": "code",
   "execution_count": 124,
   "metadata": {
    "scrolled": true
   },
   "outputs": [
    {
     "name": "stdout",
     "output_type": "stream",
     "text": [
      "x:\t\t\t 3\n",
      "dimensionality of x:\t 0\n",
      "shape of x:\t\t ()\n",
      "size of x:\t\t 1\n"
     ]
    }
   ],
   "source": [
    "x = np.array(3)\n",
    "print (\"x:\\t\\t\\t\", x)\n",
    "print(\"dimensionality of x:\\t\", x.ndim)\n",
    "print(\"shape of x:\\t\\t\", x.shape)\n",
    "print(\"size of x:\\t\\t\", x.size)"
   ]
  },
  {
   "cell_type": "markdown",
   "metadata": {},
   "source": [
    "## Vector / Rank 1 Array / 1-d Array\n",
    "\n",
    "* A vector is a collection of scalars of ndim 0, in one axes\n",
    "* shape is (n,)"
   ]
  },
  {
   "cell_type": "code",
   "execution_count": 141,
   "metadata": {},
   "outputs": [
    {
     "name": "stdout",
     "output_type": "stream",
     "text": [
      "x:\t\t\t [1.  2.  3.1]\n",
      "first element(scalar):\t 1.0\n",
      "dimensionality of x:\t 1\n",
      "shape of x:\t\t (3,)\n",
      "size of x:\t\t 3\n"
     ]
    }
   ],
   "source": [
    "x = np.array([1, 2, 3.1])\n",
    "print (\"x:\\t\\t\\t\", x)\n",
    "print(\"first element(scalar):\\t\", x[0])\n",
    "print(\"dimensionality of x:\\t\", x.ndim)\n",
    "print(\"shape of x:\\t\\t\", x.shape)\n",
    "print(\"size of x:\\t\\t\", x.size)"
   ]
  },
  {
   "cell_type": "markdown",
   "metadata": {},
   "source": [
    "## Matrix / Rank 2 Array / 2-d Array   (with only one row)\n",
    "\n",
    "* This array is confused for 1d array as it has only one row, in numpy it is a 2d array as you can see it below with one row"
   ]
  },
  {
   "cell_type": "code",
   "execution_count": 139,
   "metadata": {
    "scrolled": true
   },
   "outputs": [
    {
     "name": "stdout",
     "output_type": "stream",
     "text": [
      "x:\t\t\t [[1.  2.  3.1]]\n",
      "1st row 1st col(scalar): 1.0\n",
      "dimensionality of x:\t 2\n",
      "shape of x:\t\t (1, 3)\n",
      "size of x:\t\t 3\n"
     ]
    }
   ],
   "source": [
    "x = np.array([[1, 2, 3.1]])\n",
    "print(\"x:\\t\\t\\t\", x)\n",
    "print(\"1st row 1st col(scalar):\", x[0,0])\n",
    "print(\"dimensionality of x:\\t\", x.ndim)\n",
    "print(\"shape of x:\\t\\t\", x.shape)\n",
    "print(\"size of x:\\t\\t\", x.size)"
   ]
  },
  {
   "cell_type": "markdown",
   "metadata": {},
   "source": [
    "## Matrix / Rank 2 Array / 2-d Array\n",
    "\n",
    "* Regular matrix with collection of vectors in another axes, there fore 2 axes "
   ]
  },
  {
   "cell_type": "code",
   "execution_count": 137,
   "metadata": {},
   "outputs": [
    {
     "name": "stdout",
     "output_type": "stream",
     "text": [
      "x: [[1.  2.  3.1]\n",
      " [1.  2.  4.1]]\n",
      "2nd row(vector):\t [1.  2.  4.1]\n",
      "2st row 2st col(scalar): 2.0\n",
      "dimensionality of x:\t 2\n",
      "shape of x:\t\t (2, 3)\n",
      "size of x:\t\t 6\n"
     ]
    }
   ],
   "source": [
    "x = np.array([[1, 2, 3.1],[1, 2, 4.1]])\n",
    "print (\"x:\", x)\n",
    "print(\"2nd row(vector):\\t\", x[1])\n",
    "print(\"2st row 2st col(scalar):\", x[1,1])\n",
    "print(\"dimensionality of x:\\t\", x.ndim)\n",
    "print(\"shape of x:\\t\\t\", x.shape)\n",
    "print(\"size of x:\\t\\t\", x.size)"
   ]
  },
  {
   "cell_type": "markdown",
   "metadata": {},
   "source": [
    "## And so on Rank N Arrays with N axes"
   ]
  },
  {
   "cell_type": "code",
   "execution_count": null,
   "metadata": {},
   "outputs": [],
   "source": []
  }
 ],
 "metadata": {
  "kernelspec": {
   "display_name": "Python 3",
   "language": "python",
   "name": "python3"
  },
  "language_info": {
   "codemirror_mode": {
    "name": "ipython",
    "version": 3
   },
   "file_extension": ".py",
   "mimetype": "text/x-python",
   "name": "python",
   "nbconvert_exporter": "python",
   "pygments_lexer": "ipython3",
   "version": "3.6.7"
  }
 },
 "nbformat": 4,
 "nbformat_minor": 2
}
